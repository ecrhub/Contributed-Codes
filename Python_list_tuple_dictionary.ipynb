{
 "cells": [
  {
   "cell_type": "markdown",
   "id": "a84ae520",
   "metadata": {},
   "source": [
    "# Python Lists\n",
    "\n",
    "The list is a sequence data type which is used to store the collection of data."
   ]
  },
  {
   "cell_type": "markdown",
   "id": "9f2dcd99",
   "metadata": {},
   "source": [
    "### Create a Python List "
   ]
  },
  {
   "cell_type": "code",
   "execution_count": 12,
   "id": "7b8ad361",
   "metadata": {},
   "outputs": [
    {
     "name": "stdout",
     "output_type": "stream",
     "text": [
      "[19, 26, 29]\n",
      "<class 'list'>\n"
     ]
    }
   ],
   "source": [
    " # a list of three elements\n",
    "ages = [19, 26, 29]\n",
    "print(ages)\n",
    "\n",
    "print(type(ages))"
   ]
  },
  {
   "cell_type": "markdown",
   "id": "477c4a11",
   "metadata": {},
   "source": [
    "### List Items of Different Types "
   ]
  },
  {
   "cell_type": "code",
   "execution_count": 13,
   "id": "c6ba0223",
   "metadata": {},
   "outputs": [
    {
     "name": "stdout",
     "output_type": "stream",
     "text": [
      "['Jack', 32, 'Computer Science']\n",
      "[]\n"
     ]
    }
   ],
   "source": [
    "# a list containing strings and numbers\n",
    "student = ['Jack', 32, 'Computer Science']\n",
    "print(student)\n",
    "\n",
    "# an empty list\n",
    "empty_list = []\n",
    "print(empty_list)"
   ]
  },
  {
   "cell_type": "markdown",
   "id": "bb8b36ed",
   "metadata": {},
   "source": [
    "### List of lists"
   ]
  },
  {
   "cell_type": "code",
   "execution_count": 14,
   "id": "2d5f698f",
   "metadata": {},
   "outputs": [
    {
     "name": "stdout",
     "output_type": "stream",
     "text": [
      "[['Sachin', 'Balwant', 'Ravichandran', 'Subhash'], ['Pune', 'Delhi', 'Chennai', 'Kolkata'], [23, 25, 22, 26]]\n"
     ]
    }
   ],
   "source": [
    "City_name = ['Pune', 'Delhi', 'Chennai', 'Kolkata']\n",
    "student_name = ['Sachin', 'Balwant', 'Ravichandran', 'Subhash']\n",
    "student_age = [23, 25, 22, 26]\n",
    "\n",
    "list_4 = [student_name, City_name, student_age]\n",
    "\n",
    "print(list_4)"
   ]
  },
  {
   "cell_type": "code",
   "execution_count": 15,
   "id": "14df596a",
   "metadata": {},
   "outputs": [
    {
     "name": "stdout",
     "output_type": "stream",
     "text": [
      "['Pune', 'Delhi', 'Chennai', 'Kolkata']\n"
     ]
    }
   ],
   "source": [
    "print(list_4[1])"
   ]
  },
  {
   "cell_type": "markdown",
   "id": "cf4a3158",
   "metadata": {},
   "source": [
    "### List Characteristics\n",
    "\n",
    "Ordered - They maintain the order of elements.\n",
    "\n",
    "Mutable - Items can be changed after creation.\n",
    "\n",
    "Allow duplicates - They can contain duplicate values."
   ]
  },
  {
   "cell_type": "code",
   "execution_count": 16,
   "id": "2ee8c24d",
   "metadata": {},
   "outputs": [
    {
     "name": "stdout",
     "output_type": "stream",
     "text": [
      "[2, 3, 4, 3, 8, 6, 6]\n",
      "3 3\n"
     ]
    }
   ],
   "source": [
    "list_5 = [2, 3, 4, 3, 8, 6, 6]\n",
    "\n",
    "print(list_5)\n",
    "print(list_5[1], list_5[3])"
   ]
  },
  {
   "cell_type": "code",
   "execution_count": 17,
   "id": "e8c04214",
   "metadata": {},
   "outputs": [
    {
     "name": "stdout",
     "output_type": "stream",
     "text": [
      "-1 -1\n"
     ]
    }
   ],
   "source": [
    "list_6 = [2, 10, -1, 23, -1]\n",
    "\n",
    "print(list_6[2], list_6[4])"
   ]
  },
  {
   "cell_type": "markdown",
   "id": "94ebe279",
   "metadata": {},
   "source": [
    "### Access List Elements\n",
    "\n",
    "Each element in a list is associated with a placeholder number, known as an index.\n",
    "\n",
    "The index of first item is 0, the index of second item is 1, and so on."
   ]
  },
  {
   "cell_type": "code",
   "execution_count": 18,
   "id": "49a2ee21",
   "metadata": {},
   "outputs": [
    {
     "name": "stdout",
     "output_type": "stream",
     "text": [
      "Python\n",
      "C++\n"
     ]
    }
   ],
   "source": [
    "languages = ['Python', 'Swift', 'C++']\n",
    "\n",
    "# Access the first element\n",
    "print(languages[0])   # Python\n",
    "\n",
    "# Access the third element\n",
    "print(languages[2])   # C++"
   ]
  },
  {
   "cell_type": "markdown",
   "id": "7d81e1cb",
   "metadata": {},
   "source": [
    "### Negative Indexing in Python\n",
    "\n",
    "Python also supports negative indexing. The index of the last element is -1, the second-last element is -2, and so on. "
   ]
  },
  {
   "cell_type": "code",
   "execution_count": 19,
   "id": "6fad4fac",
   "metadata": {},
   "outputs": [
    {
     "name": "stdout",
     "output_type": "stream",
     "text": [
      "C++\n",
      "Python\n"
     ]
    },
    {
     "ename": "IndexError",
     "evalue": "list index out of range",
     "output_type": "error",
     "traceback": [
      "\u001b[1;31m---------------------------------------------------------------------------\u001b[0m",
      "\u001b[1;31mIndexError\u001b[0m                                Traceback (most recent call last)",
      "Cell \u001b[1;32mIn[19], line 9\u001b[0m\n\u001b[0;32m      6\u001b[0m \u001b[38;5;66;03m# Access item at index 2\u001b[39;00m\n\u001b[0;32m      7\u001b[0m \u001b[38;5;28mprint\u001b[39m(languages[\u001b[38;5;241m-\u001b[39m\u001b[38;5;241m3\u001b[39m])   \n\u001b[1;32m----> 9\u001b[0m \u001b[38;5;28mprint\u001b[39m(\u001b[43mlanguages\u001b[49m\u001b[43m[\u001b[49m\u001b[38;5;241;43m-\u001b[39;49m\u001b[38;5;241;43m5\u001b[39;49m\u001b[43m]\u001b[49m)\n",
      "\u001b[1;31mIndexError\u001b[0m: list index out of range"
     ]
    }
   ],
   "source": [
    "languages = ['Python', 'Swift', 'C++']\n",
    "\n",
    "# Access item at index 0\n",
    "print(languages[-1])  \n",
    "\n",
    "# Access item at index 2\n",
    "print(languages[-3])   \n",
    "\n",
    "print(languages[-5])"
   ]
  },
  {
   "cell_type": "markdown",
   "id": "c0879585",
   "metadata": {},
   "source": [
    "### Slicing of a List in Python\n",
    "\n",
    "In Python, it is possible to access a section of items from the list using the slicing operator :. For example,"
   ]
  },
  {
   "cell_type": "code",
   "execution_count": 20,
   "id": "d0d8b2e2",
   "metadata": {},
   "outputs": [
    {
     "name": "stdout",
     "output_type": "stream",
     "text": [
      "['o', 'g', 'r']\n",
      "['a', 'm']\n",
      "['p', 'r', 'o', 'g', 'r', 'a', 'm']\n"
     ]
    }
   ],
   "source": [
    "my_list = ['p', 'r', 'o', 'g', 'r', 'a', 'm']\n",
    "\n",
    "# items from index 2 to index 4\n",
    "print(my_list[2:5])\n",
    "\n",
    "# items from index 5 to end\n",
    "print(my_list[5:])\n",
    "\n",
    "# items beginning to end\n",
    "print(my_list[:])"
   ]
  },
  {
   "cell_type": "code",
   "execution_count": 21,
   "id": "25d402c4",
   "metadata": {},
   "outputs": [
    {
     "name": "stdout",
     "output_type": "stream",
     "text": [
      "['p', 'r', 'o', 'g', 'r', 'a', 'm']\n",
      "['o', 'g', 'r']\n"
     ]
    }
   ],
   "source": [
    "## step 1\n",
    "my_list = ['p', 'r', 'o', 'g', 'r', 'a', 'm']\n",
    "print(my_list)\n",
    "\n",
    "## step 2\n",
    "my_list_1 = my_list[2:5]\n",
    "print(my_list_1)\n",
    "\n",
    "# print(my_list)\n",
    "\n"
   ]
  },
  {
   "cell_type": "code",
   "execution_count": 22,
   "id": "117e41a5",
   "metadata": {},
   "outputs": [
    {
     "name": "stdout",
     "output_type": "stream",
     "text": [
      "['p', 'r', 'o', 'Hello', 'r', 'a', 'm']\n"
     ]
    }
   ],
   "source": [
    "## step 3\n",
    "my_list[3] = 'Hello'\n",
    "print(my_list)\n",
    "\n"
   ]
  },
  {
   "cell_type": "code",
   "execution_count": 23,
   "id": "32461cbb",
   "metadata": {},
   "outputs": [
    {
     "name": "stdout",
     "output_type": "stream",
     "text": [
      "['o', 'g', 'r']\n",
      "['o', 'Hello', 'r']\n"
     ]
    }
   ],
   "source": [
    "## step 4\n",
    "print(my_list_1)\n",
    "\n",
    "my_list_2 =  my_list[2:5].copy()\n",
    "print(my_list_2)"
   ]
  },
  {
   "cell_type": "markdown",
   "id": "27e25fb7",
   "metadata": {},
   "source": [
    "### Add Elements to a Python List"
   ]
  },
  {
   "cell_type": "code",
   "execution_count": 24,
   "id": "16d61599",
   "metadata": {},
   "outputs": [
    {
     "name": "stdout",
     "output_type": "stream",
     "text": [
      "Original List: ['apple', 'banana', 'orange']\n",
      "Updated List: ['apple', 'banana', 'orange', 'cherry']\n"
     ]
    }
   ],
   "source": [
    "fruits = ['apple', 'banana', 'orange']\n",
    "print('Original List:', fruits)\n",
    "\n",
    "# using append method \n",
    "fruits.append('cherry')\n",
    "\n",
    "print('Updated List:', fruits)"
   ]
  },
  {
   "cell_type": "code",
   "execution_count": 25,
   "id": "3aca6cb8",
   "metadata": {},
   "outputs": [
    {
     "name": "stdout",
     "output_type": "stream",
     "text": [
      "[]\n",
      "[2]\n",
      "[2, 5]\n",
      "[2, 5, 8]\n",
      "[2, 5, 8, 11]\n",
      "[2, 5, 8, 11, 14]\n",
      "[2, 5, 8, 11, 14]\n"
     ]
    }
   ],
   "source": [
    "trial_list_1 = []\n",
    "print(trial_list_1)\n",
    "\n",
    "b_1 = 2\n",
    "\n",
    "while b_1 < 15:\n",
    "    trial_list_1.append(b_1)\n",
    "    b_1 += 3\n",
    "    print(trial_list_1)\n",
    "    \n",
    "print(trial_list_1)"
   ]
  },
  {
   "cell_type": "markdown",
   "id": "ce849c7f",
   "metadata": {},
   "source": [
    "###  Add Elements at the Specified Index\n",
    "\n",
    "The insert() method adds an element at the specified index."
   ]
  },
  {
   "cell_type": "code",
   "execution_count": 26,
   "id": "be22922f",
   "metadata": {},
   "outputs": [
    {
     "name": "stdout",
     "output_type": "stream",
     "text": [
      "Original List: ['apple', 'banana', 'orange']\n",
      "Updated List: ['apple', 'banana', 'cherry', 'orange']\n"
     ]
    }
   ],
   "source": [
    "fruits = ['apple', 'banana', 'orange']\n",
    "print(\"Original List:\", fruits) \n",
    "\n",
    "# insert 'cherry' at index 2\n",
    "fruits.insert(2, 'cherry')\n",
    "\n",
    "print(\"Updated List:\", fruits)"
   ]
  },
  {
   "cell_type": "markdown",
   "id": "36d6e592",
   "metadata": {},
   "source": [
    "### Add Elements to a List From Other list\n",
    "\n",
    "We use the extend() method to add elements to a list from other iterables."
   ]
  },
  {
   "cell_type": "code",
   "execution_count": 27,
   "id": "b6bf5e56",
   "metadata": {},
   "outputs": [
    {
     "name": "stdout",
     "output_type": "stream",
     "text": [
      "Numbers: [1, 3, 5]\n",
      "[2, 4, 6]\n",
      "Updated Numbers: [1, 3, 5, 2, 4, 6]\n"
     ]
    }
   ],
   "source": [
    "numbers = [1, 3, 5]\n",
    "print('Numbers:', numbers)\n",
    "\n",
    "even_numbers  = [2, 4, 6]\n",
    "print(even_numbers)\n",
    "\n",
    "# adding elements of one list to another\n",
    "numbers.extend(even_numbers)\n",
    "\n",
    "print('Updated Numbers:', numbers) \n",
    "\n"
   ]
  },
  {
   "cell_type": "code",
   "execution_count": 28,
   "id": "e60248b4",
   "metadata": {},
   "outputs": [
    {
     "name": "stdout",
     "output_type": "stream",
     "text": [
      "[1, 3, 5, 2, 4, 6, 2, 4, 6]\n"
     ]
    }
   ],
   "source": [
    "list_8 = numbers + even_numbers\n",
    "\n",
    "print(list_8)"
   ]
  },
  {
   "cell_type": "markdown",
   "id": "2263ccb5",
   "metadata": {},
   "source": [
    "###  Change List Items\n",
    "\n",
    "We can change the items of a list by assigning new values using the = operator. For example,"
   ]
  },
  {
   "cell_type": "code",
   "execution_count": 29,
   "id": "309a4ffe",
   "metadata": {},
   "outputs": [
    {
     "name": "stdout",
     "output_type": "stream",
     "text": [
      "Original List: ['Red', 'Black', 'Green']\n",
      "Updated List: ['Red', 'Black', 'Blue']\n"
     ]
    }
   ],
   "source": [
    "colors = ['Red', 'Black', 'Green']\n",
    "print('Original List:', colors)\n",
    "\n",
    "# changing the third item to 'Blue'\n",
    "colors[2] = 'Blue'\n",
    "\n",
    "print('Updated List:', colors)"
   ]
  },
  {
   "cell_type": "markdown",
   "id": "045efd61",
   "metadata": {},
   "source": [
    "### Remove an Item From a List\n",
    "\n",
    "We can remove an item from a list using the remove() method. "
   ]
  },
  {
   "cell_type": "code",
   "execution_count": 30,
   "id": "9b658d2c",
   "metadata": {},
   "outputs": [
    {
     "name": "stdout",
     "output_type": "stream",
     "text": [
      "[2, 4, 7, 9]\n",
      "[2, 7, 9]\n"
     ]
    }
   ],
   "source": [
    "numbers = [2,4,7,9]\n",
    "\n",
    "print(numbers)\n",
    "# remove 4 from the list\n",
    "numbers.remove(4)\n",
    "\n",
    "print(numbers) \n"
   ]
  },
  {
   "cell_type": "code",
   "execution_count": 31,
   "id": "b6b92e1e",
   "metadata": {},
   "outputs": [
    {
     "name": "stdout",
     "output_type": "stream",
     "text": [
      "[2, 4, 7, 8, 4]\n",
      "[2, 7, 8, 4]\n"
     ]
    }
   ],
   "source": [
    "numbers_01 = [2, 4, 7, 8, 4]\n",
    "print(numbers_01)\n",
    "\n",
    "numbers_01.remove(4)\n",
    "\n",
    "print(numbers_01)"
   ]
  },
  {
   "cell_type": "markdown",
   "id": "0d0eba6d",
   "metadata": {},
   "source": [
    "### Python List Length\n",
    "\n",
    "We can use the built-in len() function to find the number of elements in a list."
   ]
  },
  {
   "cell_type": "code",
   "execution_count": 32,
   "id": "1c951e09",
   "metadata": {},
   "outputs": [
    {
     "name": "stdout",
     "output_type": "stream",
     "text": [
      "Total Elements:  3\n"
     ]
    }
   ],
   "source": [
    "cars = ['BMW', 'Mercedes', 'Tesla']\n",
    "\n",
    "print('Total Elements: ', len(cars))  \n",
    "  \n"
   ]
  },
  {
   "cell_type": "code",
   "execution_count": 33,
   "id": "709bfe01",
   "metadata": {},
   "outputs": [
    {
     "data": {
      "text/plain": [
       "7"
      ]
     },
     "execution_count": 33,
     "metadata": {},
     "output_type": "execute_result"
    }
   ],
   "source": [
    "trial_string_01 = 'program'\n",
    "len(trial_string_01)"
   ]
  },
  {
   "cell_type": "markdown",
   "id": "ec4295f4",
   "metadata": {},
   "source": [
    "### Iterating Through a List\n",
    "\n",
    "We can use a for loop to iterate over the elements of a list."
   ]
  },
  {
   "cell_type": "code",
   "execution_count": 34,
   "id": "f0eea99b",
   "metadata": {},
   "outputs": [
    {
     "name": "stdout",
     "output_type": "stream",
     "text": [
      "apple 5\n",
      "banana 6\n",
      "orange 6\n"
     ]
    }
   ],
   "source": [
    "fruits = ['apple', 'banana', 'orange']\n",
    "\n",
    "# iterate through the list\n",
    "for fruit in fruits:\n",
    "    print(fruit, len(fruit))"
   ]
  },
  {
   "cell_type": "markdown",
   "id": "b9bdae60",
   "metadata": {},
   "source": [
    "### What Is Difference Between Del, Remove and Pop on Python Lists?\n",
    "\n",
    "The purpose of these three are same but the behavior is different remove() method delete values or object from the list using value and del and pop() deletes values or object from the list using an index."
   ]
  },
  {
   "cell_type": "code",
   "execution_count": 35,
   "id": "8d78b55b",
   "metadata": {},
   "outputs": [
    {
     "name": "stdout",
     "output_type": "stream",
     "text": [
      "[1, 2, 2, 3, 4, 5]\n",
      "[1, 2, 2, 3, 4]\n",
      "[2, 2, 3, 4]\n"
     ]
    }
   ],
   "source": [
    "# program to demonstrate use of del keyword \n",
    "\n",
    "# assign list \n",
    "numbers = [1, 2, 3, 2, 3, 4, 5] \n",
    "\n",
    "# use del \n",
    "del numbers[2] \n",
    "\n",
    "# display list \n",
    "print(numbers) \n",
    "\n",
    "# use del \n",
    "del numbers[-1] \n",
    "\n",
    "# display list \n",
    "print(numbers) \n",
    "\n",
    "# use del \n",
    "del numbers[0] \n",
    "\n",
    "# display list \n",
    "print(numbers) \n"
   ]
  },
  {
   "cell_type": "code",
   "execution_count": 36,
   "id": "d11f5996",
   "metadata": {},
   "outputs": [
    {
     "name": "stdout",
     "output_type": "stream",
     "text": [
      "[2, 3, 2, 3, 4, 5]\n",
      "[2, 3, 2, 3, 4]\n",
      "[2, 3, 3, 4]\n"
     ]
    }
   ],
   "source": [
    "# program to demonstrate use of del keyword \n",
    "\n",
    "# assign list \n",
    "numbers = [1, 2, 3, 2, 3, 4, 5] \n",
    "\n",
    "# use del \n",
    "del numbers[0] \n",
    "\n",
    "# display list \n",
    "print(numbers) \n",
    "\n",
    "# use del \n",
    "del numbers[-1] \n",
    "\n",
    "# display list \n",
    "print(numbers) \n",
    "\n",
    "# use del \n",
    "del numbers[2] \n",
    "\n",
    "# display list \n",
    "print(numbers) \n"
   ]
  },
  {
   "cell_type": "code",
   "execution_count": 37,
   "id": "a01e308b",
   "metadata": {},
   "outputs": [
    {
     "name": "stdout",
     "output_type": "stream",
     "text": [
      "[1, 2, 3, 2, 3, 4, 5]\n",
      "[1, 2, 2, 3, 4, 5]\n",
      "[1, 2, 3, 4, 5]\n",
      "[1, 2, 3, 4]\n"
     ]
    }
   ],
   "source": [
    "# program to demonstrate use of remove() method \n",
    "\n",
    "# assign list \n",
    "numbers = [1, 2, 3, 2, 3, 4, 5] \n",
    "\n",
    "print(numbers)\n",
    "\n",
    "# use remove() \n",
    "numbers.remove(3) \n",
    "\n",
    "# display list \n",
    "print(numbers) \n",
    "\n",
    "# use remove() \n",
    "numbers.remove(2) \n",
    "\n",
    "# display list \n",
    "print(numbers) \n",
    "\n",
    "# use remove() \n",
    "numbers.remove(5) \n",
    "\n",
    "# display list \n",
    "print(numbers) \n"
   ]
  },
  {
   "cell_type": "code",
   "execution_count": 38,
   "id": "9e74d9bd",
   "metadata": {},
   "outputs": [
    {
     "name": "stdout",
     "output_type": "stream",
     "text": [
      "[1, 2, 3, 2, 3, 4, 5]\n",
      "[1, 2, 3, 3, 4, 5]\n",
      "[1, 2, 3, 3, 4]\n",
      "[1, 2, 3, 3]\n",
      "4\n"
     ]
    }
   ],
   "source": [
    "# program to demonstrate use of pop() method \n",
    "\n",
    "# assign list \n",
    "numbers = [1, 2, 3, 2, 3, 4, 5] \n",
    "print(numbers)\n",
    "\n",
    "# use remove() \n",
    "numbers.pop(3) \n",
    "\n",
    "# display list \n",
    "print(numbers) \n",
    "\n",
    "# use remove() \n",
    "numbers.pop(-1) \n",
    "\n",
    "# display list \n",
    "print(numbers) \n",
    "\n",
    "# use remove() \n",
    "a = numbers.pop() \n",
    "\n",
    "# display list \n",
    "print(numbers) \n",
    "\n",
    "print(a)"
   ]
  },
  {
   "cell_type": "markdown",
   "id": "95fa8b58",
   "metadata": {},
   "source": [
    "### Python List index()\n",
    "The index() method returns the index of the specified element in the list."
   ]
  },
  {
   "cell_type": "code",
   "execution_count": 39,
   "id": "acbc3662",
   "metadata": {},
   "outputs": [
    {
     "ename": "ValueError",
     "evalue": "'human' is not in list",
     "output_type": "error",
     "traceback": [
      "\u001b[1;31m---------------------------------------------------------------------------\u001b[0m",
      "\u001b[1;31mValueError\u001b[0m                                Traceback (most recent call last)",
      "Cell \u001b[1;32mIn[39], line 4\u001b[0m\n\u001b[0;32m      1\u001b[0m animals \u001b[38;5;241m=\u001b[39m [\u001b[38;5;124m'\u001b[39m\u001b[38;5;124mcat\u001b[39m\u001b[38;5;124m'\u001b[39m, \u001b[38;5;124m'\u001b[39m\u001b[38;5;124mdog\u001b[39m\u001b[38;5;124m'\u001b[39m, \u001b[38;5;124m'\u001b[39m\u001b[38;5;124mrabbit\u001b[39m\u001b[38;5;124m'\u001b[39m, \u001b[38;5;124m'\u001b[39m\u001b[38;5;124mhorse\u001b[39m\u001b[38;5;124m'\u001b[39m]\n\u001b[0;32m      3\u001b[0m \u001b[38;5;66;03m# get the index of 'dog'\u001b[39;00m\n\u001b[1;32m----> 4\u001b[0m index \u001b[38;5;241m=\u001b[39m \u001b[43manimals\u001b[49m\u001b[38;5;241;43m.\u001b[39;49m\u001b[43mindex\u001b[49m\u001b[43m(\u001b[49m\u001b[38;5;124;43m'\u001b[39;49m\u001b[38;5;124;43mhuman\u001b[39;49m\u001b[38;5;124;43m'\u001b[39;49m\u001b[43m)\u001b[49m\n\u001b[0;32m      6\u001b[0m \u001b[38;5;28mprint\u001b[39m(index)\n",
      "\u001b[1;31mValueError\u001b[0m: 'human' is not in list"
     ]
    }
   ],
   "source": [
    "animals = ['cat', 'dog', 'rabbit', 'horse']\n",
    "\n",
    "# get the index of 'dog'\n",
    "index = animals.index('human')\n",
    "\n",
    "print(index)\n"
   ]
  },
  {
   "cell_type": "markdown",
   "id": "de07abb6",
   "metadata": {},
   "source": [
    "### Check if an Item Exists in the List"
   ]
  },
  {
   "cell_type": "code",
   "execution_count": 40,
   "id": "28764794",
   "metadata": {},
   "outputs": [
    {
     "name": "stdout",
     "output_type": "stream",
     "text": [
      "False\n",
      "True\n"
     ]
    }
   ],
   "source": [
    "print('cow' in animals)\n",
    "\n",
    "print('dog' in animals)"
   ]
  },
  {
   "cell_type": "code",
   "execution_count": 41,
   "id": "f2c70fcd",
   "metadata": {},
   "outputs": [
    {
     "name": "stdout",
     "output_type": "stream",
     "text": [
      "yes\n"
     ]
    }
   ],
   "source": [
    "if 'human' in animals:\n",
    "    print('not possible')\n",
    "    \n",
    "if 'dog' in animals:\n",
    "    print('yes')"
   ]
  },
  {
   "cell_type": "markdown",
   "id": "af77e15c",
   "metadata": {},
   "source": [
    "### Python List sort()\n",
    "\n",
    "The list's sort() method sorts the elements of a list."
   ]
  },
  {
   "cell_type": "code",
   "execution_count": 42,
   "id": "339a6c43",
   "metadata": {},
   "outputs": [
    {
     "name": "stdout",
     "output_type": "stream",
     "text": [
      "[11, 3, 7, 5, 2]\n",
      "[2, 3, 5, 7, 11]\n"
     ]
    }
   ],
   "source": [
    "prime_numbers = [11, 3, 7, 5, 2]\n",
    "print(prime_numbers)\n",
    "\n",
    "# sort the list in ascending order\n",
    "prime_numbers.sort()\n",
    "\n",
    "print(prime_numbers)\n",
    "\n"
   ]
  },
  {
   "cell_type": "code",
   "execution_count": 43,
   "id": "921280dc",
   "metadata": {},
   "outputs": [
    {
     "name": "stdout",
     "output_type": "stream",
     "text": [
      "['Deepak', 'Garvit', 'Bhavisya', 'Ameen', 'Rashmi']\n",
      "['Ameen', 'Bhavisya', 'Deepak', 'Garvit', 'Rashmi']\n"
     ]
    }
   ],
   "source": [
    "all_string_list = ['Deepak', 'Garvit', 'Bhavisya', 'Ameen', 'Rashmi']\n",
    "\n",
    "print(all_string_list)\n",
    "\n",
    "all_string_list.sort()\n",
    "\n",
    "print(all_string_list)"
   ]
  },
  {
   "cell_type": "markdown",
   "id": "2dff5094",
   "metadata": {},
   "source": [
    "### Merge two lists"
   ]
  },
  {
   "cell_type": "code",
   "execution_count": 44,
   "id": "e40a9c59",
   "metadata": {},
   "outputs": [
    {
     "name": "stdout",
     "output_type": "stream",
     "text": [
      "['Python', 'JAVA', 'C++', 'C', 'FORTRAN', 'PERL']\n"
     ]
    }
   ],
   "source": [
    "list_1 = [\"Python\", 'JAVA', 'C++']\n",
    "\n",
    "list_2 = ['C', 'FORTRAN', 'PERL']\n",
    "\n",
    "list_3 = list_1 + list_2\n",
    "\n",
    "print(list_3)"
   ]
  },
  {
   "cell_type": "code",
   "execution_count": null,
   "id": "013b4bee",
   "metadata": {},
   "outputs": [],
   "source": []
  },
  {
   "cell_type": "markdown",
   "id": "cedede8a",
   "metadata": {},
   "source": [
    "# Python Tuple\n",
    "\n",
    "A tuple is a collection similar to a Python list. The primary difference is that we cannot modify a tuple once it is created."
   ]
  },
  {
   "cell_type": "markdown",
   "id": "de371b28",
   "metadata": {},
   "source": [
    "### Create a Python Tuple\n",
    "\n",
    "We create a tuple by placing items inside parentheses ()."
   ]
  },
  {
   "cell_type": "code",
   "execution_count": 45,
   "id": "7e0e1f9c",
   "metadata": {},
   "outputs": [
    {
     "name": "stdout",
     "output_type": "stream",
     "text": [
      "(1, 2, -5)\n"
     ]
    }
   ],
   "source": [
    "numbers = (1, 2, -5)\n",
    "print(numbers)\n",
    "\n"
   ]
  },
  {
   "cell_type": "markdown",
   "id": "00673eb5",
   "metadata": {},
   "source": [
    "### Different Types of Python Tuples \n",
    "\n"
   ]
  },
  {
   "cell_type": "code",
   "execution_count": 46,
   "id": "f8b64ecc",
   "metadata": {},
   "outputs": [
    {
     "name": "stdout",
     "output_type": "stream",
     "text": [
      "()\n",
      "('James', 'Jack', 'Eva')\n",
      "(1.2, 3.4, 2.1)\n",
      "(2, 'Hello', 'Python')\n"
     ]
    }
   ],
   "source": [
    "# create an empty tuple\n",
    "empty_tuple = ()\n",
    "print(empty_tuple)\n",
    "\n",
    "\n",
    "\n",
    "# tuple of string types\n",
    "names = ('James', 'Jack', 'Eva')\n",
    "print (names)\n",
    "\n",
    "# tuple of float types\n",
    "float_values = (1.2, 3.4, 2.1)\n",
    "print(float_values)\n",
    "\n",
    "\n",
    "# tuple including string and integer\n",
    "mixed_tuple = (2, 'Hello', 'Python')\n",
    "print(mixed_tuple)\n",
    "\n"
   ]
  },
  {
   "cell_type": "markdown",
   "id": "6626ac55",
   "metadata": {},
   "source": [
    "# Tuple Characteristics\n",
    "\n",
    "    Ordered - They maintain the order of elements.\n",
    "    \n",
    "    Immutable - They cannot be changed after creation.\n",
    "    \n",
    "    Allow duplicates - They can contain duplicate values.\n"
   ]
  },
  {
   "cell_type": "markdown",
   "id": "c5d2906c",
   "metadata": {},
   "source": [
    "### Access Items Using Index"
   ]
  },
  {
   "cell_type": "code",
   "execution_count": 47,
   "id": "21453fde",
   "metadata": {},
   "outputs": [
    {
     "name": "stdout",
     "output_type": "stream",
     "text": [
      "Python\n",
      "C++\n"
     ]
    }
   ],
   "source": [
    "languages = ('Python', 'Swift', 'C++')\n",
    "\n",
    "# access the first item\n",
    "print(languages[0])   \n",
    "\n",
    "# access the third item\n",
    "print(languages[2])  "
   ]
  },
  {
   "cell_type": "markdown",
   "id": "a477cf91",
   "metadata": {},
   "source": [
    "### Tuple Cannot be Modified"
   ]
  },
  {
   "cell_type": "code",
   "execution_count": 48,
   "id": "18d7368b",
   "metadata": {},
   "outputs": [
    {
     "ename": "TypeError",
     "evalue": "'tuple' object does not support item assignment",
     "output_type": "error",
     "traceback": [
      "\u001b[1;31m---------------------------------------------------------------------------\u001b[0m",
      "\u001b[1;31mTypeError\u001b[0m                                 Traceback (most recent call last)",
      "Cell \u001b[1;32mIn[48], line 4\u001b[0m\n\u001b[0;32m      1\u001b[0m cars \u001b[38;5;241m=\u001b[39m  (\u001b[38;5;124m'\u001b[39m\u001b[38;5;124mBMW\u001b[39m\u001b[38;5;124m'\u001b[39m, \u001b[38;5;124m'\u001b[39m\u001b[38;5;124mTesla\u001b[39m\u001b[38;5;124m'\u001b[39m, \u001b[38;5;124m'\u001b[39m\u001b[38;5;124mFord\u001b[39m\u001b[38;5;124m'\u001b[39m, \u001b[38;5;124m'\u001b[39m\u001b[38;5;124mToyota\u001b[39m\u001b[38;5;124m'\u001b[39m)\n\u001b[0;32m      3\u001b[0m \u001b[38;5;66;03m# trying to modify a tuple\u001b[39;00m\n\u001b[1;32m----> 4\u001b[0m cars[\u001b[38;5;241m0\u001b[39m] \u001b[38;5;241m=\u001b[39m \u001b[38;5;124m'\u001b[39m\u001b[38;5;124mNissan\u001b[39m\u001b[38;5;124m'\u001b[39m    \u001b[38;5;66;03m# error\u001b[39;00m\n\u001b[0;32m      6\u001b[0m \u001b[38;5;28mprint\u001b[39m(cars)\n",
      "\u001b[1;31mTypeError\u001b[0m: 'tuple' object does not support item assignment"
     ]
    }
   ],
   "source": [
    "cars =  ('BMW', 'Tesla', 'Ford', 'Toyota')\n",
    "\n",
    "# trying to modify a tuple\n",
    "cars[0] = 'Nissan'    # error\n",
    "       \n",
    "print(cars)"
   ]
  },
  {
   "cell_type": "code",
   "execution_count": 49,
   "id": "9050659a",
   "metadata": {},
   "outputs": [
    {
     "name": "stdout",
     "output_type": "stream",
     "text": [
      "<class 'tuple'>\n",
      "<class 'list'>\n"
     ]
    }
   ],
   "source": [
    "print(type(cars))\n",
    "\n",
    "cars_01 = list(cars)\n",
    "\n",
    "print(type(cars_01))"
   ]
  },
  {
   "cell_type": "markdown",
   "id": "3938c417",
   "metadata": {},
   "source": [
    "### Iterate Through a Tuple"
   ]
  },
  {
   "cell_type": "code",
   "execution_count": 50,
   "id": "511e8fff",
   "metadata": {},
   "outputs": [
    {
     "name": "stdout",
     "output_type": "stream",
     "text": [
      "apple\n",
      "banana\n",
      "orange\n"
     ]
    }
   ],
   "source": [
    "fruits = ('apple','banana','orange')\n",
    "\n",
    "# iterate through the tuple\n",
    "for fruit in fruits:\n",
    "    print(fruit)"
   ]
  },
  {
   "cell_type": "code",
   "execution_count": null,
   "id": "55c30e1b",
   "metadata": {},
   "outputs": [],
   "source": []
  },
  {
   "cell_type": "code",
   "execution_count": null,
   "id": "7a3a4a6d",
   "metadata": {},
   "outputs": [],
   "source": []
  },
  {
   "cell_type": "code",
   "execution_count": null,
   "id": "e0216a08",
   "metadata": {},
   "outputs": [],
   "source": []
  },
  {
   "cell_type": "markdown",
   "id": "119f1fb5",
   "metadata": {},
   "source": [
    "# Python Dictionary\n",
    "\n",
    "A Python dictionary is a collection of items, similar to lists and tuples. However, unlike lists and tuples, each item in a dictionary is a key-value pair (consisting of a key and a value)."
   ]
  },
  {
   "cell_type": "markdown",
   "id": "8981f438",
   "metadata": {},
   "source": [
    "### Create a Dictionary\n",
    "\n",
    "We create a dictionary by placing key: value pairs inside curly brackets {}, separated by commas."
   ]
  },
  {
   "cell_type": "code",
   "execution_count": 51,
   "id": "d2b83035",
   "metadata": {},
   "outputs": [
    {
     "name": "stdout",
     "output_type": "stream",
     "text": [
      "{'Germany': 'Berlin', 'Canada': 'Ottawa', 'England': 'London'}\n"
     ]
    }
   ],
   "source": [
    "# creating a dictionary\n",
    "country_capitals = {\n",
    "  \"Germany\": \"Berlin\", \n",
    "  \"Canada\": \"Ottawa\", \n",
    "  \"England\": \"London\"\n",
    "}\n",
    "\n",
    "# printing the dictionary\n",
    "print(country_capitals)"
   ]
  },
  {
   "cell_type": "markdown",
   "id": "1c7cabd0",
   "metadata": {},
   "source": [
    "### Access Dictionary Items\n",
    "\n",
    "We can access the value of a dictionary item by placing the key inside square brackets."
   ]
  },
  {
   "cell_type": "code",
   "execution_count": 52,
   "id": "de0eeadb",
   "metadata": {},
   "outputs": [
    {
     "name": "stdout",
     "output_type": "stream",
     "text": [
      "Berlin\n"
     ]
    }
   ],
   "source": [
    "print(country_capitals['Germany'])"
   ]
  },
  {
   "cell_type": "code",
   "execution_count": 53,
   "id": "e152530a",
   "metadata": {},
   "outputs": [
    {
     "ename": "KeyError",
     "evalue": "'Berlin'",
     "output_type": "error",
     "traceback": [
      "\u001b[1;31m---------------------------------------------------------------------------\u001b[0m",
      "\u001b[1;31mKeyError\u001b[0m                                  Traceback (most recent call last)",
      "Cell \u001b[1;32mIn[53], line 1\u001b[0m\n\u001b[1;32m----> 1\u001b[0m \u001b[38;5;28mprint\u001b[39m(\u001b[43mcountry_capitals\u001b[49m\u001b[43m[\u001b[49m\u001b[38;5;124;43m'\u001b[39;49m\u001b[38;5;124;43mBerlin\u001b[39;49m\u001b[38;5;124;43m'\u001b[39;49m\u001b[43m]\u001b[49m)\n",
      "\u001b[1;31mKeyError\u001b[0m: 'Berlin'"
     ]
    }
   ],
   "source": [
    "print(country_capitals['Berlin'])"
   ]
  },
  {
   "cell_type": "code",
   "execution_count": 54,
   "id": "d94f66bf",
   "metadata": {},
   "outputs": [
    {
     "name": "stdout",
     "output_type": "stream",
     "text": [
      "Wall\n"
     ]
    }
   ],
   "source": [
    "modified_country_capitals = {\n",
    "  \"Germany\": \"Berlin\", \n",
    "  \"Canada\": \"Ottawa\", \n",
    "  \"England\": \"London\",\n",
    "    \"Berlin\": \"Wall\"\n",
    "}\n",
    "\n",
    "print(modified_country_capitals['Berlin'])"
   ]
  },
  {
   "cell_type": "markdown",
   "id": "a8ce8c10",
   "metadata": {},
   "source": [
    "### Keys of a dictionary must be immutable\n",
    "\n",
    "Immutable objects can't be changed once created. Some immutable objects in Python are integer, tuple and string."
   ]
  },
  {
   "cell_type": "code",
   "execution_count": 55,
   "id": "217a0f1a",
   "metadata": {},
   "outputs": [
    {
     "ename": "TypeError",
     "evalue": "unhashable type: 'list'",
     "output_type": "error",
     "traceback": [
      "\u001b[1;31m---------------------------------------------------------------------------\u001b[0m",
      "\u001b[1;31mTypeError\u001b[0m                                 Traceback (most recent call last)",
      "Cell \u001b[1;32mIn[55], line 11\u001b[0m\n\u001b[0;32m      7\u001b[0m my_dict_02 \u001b[38;5;241m=\u001b[39m {(\u001b[38;5;241m1\u001b[39m, \u001b[38;5;241m2\u001b[39m): \u001b[38;5;124m\"\u001b[39m\u001b[38;5;124mone two\u001b[39m\u001b[38;5;124m\"\u001b[39m, \u001b[38;5;241m3\u001b[39m: \u001b[38;5;124m\"\u001b[39m\u001b[38;5;124mthree\u001b[39m\u001b[38;5;124m\"\u001b[39m}\n\u001b[0;32m      9\u001b[0m \u001b[38;5;66;03m# invalid dictionary\u001b[39;00m\n\u001b[0;32m     10\u001b[0m \u001b[38;5;66;03m# Error: using a list as a key is not allowed\u001b[39;00m\n\u001b[1;32m---> 11\u001b[0m my_dict_03 \u001b[38;5;241m=\u001b[39m {\u001b[38;5;241m1\u001b[39m: \u001b[38;5;124m\"\u001b[39m\u001b[38;5;124mHello\u001b[39m\u001b[38;5;124m\"\u001b[39m, [\u001b[38;5;241m1\u001b[39m, \u001b[38;5;241m2\u001b[39m]: \u001b[38;5;124m\"\u001b[39m\u001b[38;5;124mHello Hi\u001b[39m\u001b[38;5;124m\"\u001b[39m}\n\u001b[0;32m     13\u001b[0m \u001b[38;5;66;03m# valid dictionary\u001b[39;00m\n\u001b[0;32m     14\u001b[0m \u001b[38;5;66;03m# string as a key, list as a value\u001b[39;00m\n\u001b[0;32m     15\u001b[0m my_dict_04 \u001b[38;5;241m=\u001b[39m {\u001b[38;5;124m\"\u001b[39m\u001b[38;5;124mUSA\u001b[39m\u001b[38;5;124m\"\u001b[39m: [\u001b[38;5;124m\"\u001b[39m\u001b[38;5;124mChicago\u001b[39m\u001b[38;5;124m\"\u001b[39m, \u001b[38;5;124m\"\u001b[39m\u001b[38;5;124mCalifornia\u001b[39m\u001b[38;5;124m\"\u001b[39m, \u001b[38;5;124m\"\u001b[39m\u001b[38;5;124mNew York\u001b[39m\u001b[38;5;124m\"\u001b[39m]}\n",
      "\u001b[1;31mTypeError\u001b[0m: unhashable type: 'list'"
     ]
    }
   ],
   "source": [
    "# valid dictionary\n",
    "# integer as a key\n",
    "my_dict_01 = {1: \"one\", 2: \"two\", 3: \"three\"}\n",
    "\n",
    "# valid dictionary\n",
    "# tuple as a key\n",
    "my_dict_02 = {(1, 2): \"one two\", 3: \"three\"}\n",
    "\n",
    "# invalid dictionary\n",
    "# Error: using a list as a key is not allowed\n",
    "my_dict_03 = {1: \"Hello\", [1, 2]: \"Hello Hi\"}\n",
    "\n",
    "# valid dictionary\n",
    "# string as a key, list as a value\n",
    "my_dict_04 = {\"USA\": [\"Chicago\", \"California\", \"New York\"]}"
   ]
  },
  {
   "cell_type": "markdown",
   "id": "313b8271",
   "metadata": {},
   "source": [
    "### Keys of a dictionary must be unique\n",
    "\n",
    "The keys of a dictionary must be unique. If there are duplicate keys, the later value of the key overwrites the previous value."
   ]
  },
  {
   "cell_type": "code",
   "execution_count": 56,
   "id": "f5b619c2",
   "metadata": {},
   "outputs": [
    {
     "name": "stdout",
     "output_type": "stream",
     "text": [
      "{'Harry Potter': 'Slytherin', 'Hermione Granger': 'Gryffindor', 'Ron Weasley': 'Gryffindor'}\n"
     ]
    }
   ],
   "source": [
    "hogwarts_houses = {\n",
    "    \"Harry Potter\": \"Gryffindor\",\n",
    "    \"Hermione Granger\": \"Gryffindor\",\n",
    "    \"Ron Weasley\": \"Gryffindor\",\n",
    "    # duplicate key with a different house\n",
    "    \"Harry Potter\": \"Slytherin\"\n",
    "}\n",
    "\n",
    "print(hogwarts_houses)"
   ]
  },
  {
   "cell_type": "code",
   "execution_count": 57,
   "id": "07dc7592",
   "metadata": {},
   "outputs": [
    {
     "name": "stdout",
     "output_type": "stream",
     "text": [
      "{'Harry Potter': 'Slytherin', 'Hermione Granger': 'Gryffindor', 'Ron Weasley': 'Gryffindor'}\n",
      "{'Harry Potter': 'Gryffindor', 'Hermione Granger': 'Gryffindor', 'Ron Weasley': 'Gryffindor'}\n"
     ]
    }
   ],
   "source": [
    "print(hogwarts_houses)\n",
    "hogwarts_houses[\"Harry Potter\"] = \"Gryffindor\"\n",
    "\n",
    "print(hogwarts_houses)"
   ]
  },
  {
   "cell_type": "markdown",
   "id": "9be0159e",
   "metadata": {},
   "source": [
    "### Add Items to a Dictionary\n",
    "\n",
    "We can add an item to a dictionary by assigning a value to a new key. "
   ]
  },
  {
   "cell_type": "code",
   "execution_count": 58,
   "id": "d4810cf9",
   "metadata": {},
   "outputs": [
    {
     "name": "stdout",
     "output_type": "stream",
     "text": [
      "{'Germany': 'Berlin', 'Canada': 'Ottawa'}\n",
      "{'Germany': 'Berlin', 'Canada': 'Ottawa', 'Italy': 'Rome'}\n"
     ]
    }
   ],
   "source": [
    "country_capitals = {\n",
    "  \"Germany\": \"Berlin\", \n",
    "  \"Canada\": \"Ottawa\", \n",
    "}\n",
    "\n",
    "print(country_capitals)\n",
    "# add an item with \"Italy\" as key and \"Rome\" as its value\n",
    "country_capitals[\"Italy\"] = \"Rome\"\n",
    "\n",
    "print(country_capitals)"
   ]
  },
  {
   "cell_type": "markdown",
   "id": "bdf1bac4",
   "metadata": {},
   "source": [
    "### Remove Dictionary Items\n",
    "\n",
    "We can use the del statement to remove an element from a dictionary. "
   ]
  },
  {
   "cell_type": "code",
   "execution_count": 59,
   "id": "8aa6284f",
   "metadata": {},
   "outputs": [
    {
     "name": "stdout",
     "output_type": "stream",
     "text": [
      "{'Germany': 'Berlin', 'Canada': 'Ottawa'}\n",
      "{'Canada': 'Ottawa'}\n"
     ]
    }
   ],
   "source": [
    "country_capitals = {\n",
    "  \"Germany\": \"Berlin\", \n",
    "  \"Canada\": \"Ottawa\", \n",
    "}\n",
    "print(country_capitals)\n",
    "# delete item having \"Germany\" key\n",
    "del country_capitals[\"Germany\"]\n",
    "\n",
    "print(country_capitals)"
   ]
  },
  {
   "cell_type": "markdown",
   "id": "4553b404",
   "metadata": {},
   "source": [
    "#### If we need to remove all items from a dictionary at once, we can use the clear() method."
   ]
  },
  {
   "cell_type": "code",
   "execution_count": 60,
   "id": "d43da191",
   "metadata": {},
   "outputs": [
    {
     "name": "stdout",
     "output_type": "stream",
     "text": [
      "{'Germany': 'Berlin', 'Canada': 'Ottawa'}\n",
      "{}\n"
     ]
    }
   ],
   "source": [
    "country_capitals = {\n",
    "  \"Germany\": \"Berlin\", \n",
    "  \"Canada\": \"Ottawa\", \n",
    "}\n",
    "print(country_capitals)\n",
    "# clear the dictionary\n",
    "country_capitals.clear()\n",
    "\n",
    "print(country_capitals)  "
   ]
  },
  {
   "cell_type": "markdown",
   "id": "f153fd8d",
   "metadata": {},
   "source": [
    "### Change Dictionary Items\n",
    "\n",
    "Python dictionaries are mutable (changeable). We can change the value of a dictionary element by referring to its key. "
   ]
  },
  {
   "cell_type": "code",
   "execution_count": 61,
   "id": "b854b71f",
   "metadata": {},
   "outputs": [
    {
     "name": "stdout",
     "output_type": "stream",
     "text": [
      "{'Germany': 'Berlin', 'Italy': 'Naples', 'England': 'London'}\n",
      "{'Germany': 'Berlin', 'Italy': 'Rome', 'England': 'London'}\n"
     ]
    }
   ],
   "source": [
    "country_capitals = {\n",
    "  \"Germany\": \"Berlin\", \n",
    "  \"Italy\": \"Naples\", \n",
    "  \"England\": \"London\"\n",
    "}\n",
    "print(country_capitals)\n",
    "# change the value of \"Italy\" key to \"Rome\"\n",
    "country_capitals[\"Italy\"] = \"Rome\"\n",
    "\n",
    "print(country_capitals)"
   ]
  },
  {
   "cell_type": "code",
   "execution_count": 62,
   "id": "f307885d",
   "metadata": {},
   "outputs": [
    {
     "name": "stdout",
     "output_type": "stream",
     "text": [
      "{'Germany': 'Berlin', 'Italy': 'Naples', 'England': 'London', 'deutschland': 'Berlin'}\n"
     ]
    }
   ],
   "source": [
    "country_capitals = {\n",
    "  \"Germany\": \"Berlin\", \n",
    "  \"Italy\": \"Naples\", \n",
    "  \"England\": \"London\"\n",
    "}\n",
    "\n",
    "country_capitals[\"deutschland\"] = country_capitals[\"Germany\"]\n",
    "\n",
    "print(country_capitals)"
   ]
  },
  {
   "cell_type": "markdown",
   "id": "647d7308",
   "metadata": {},
   "source": [
    "### Iterate Through a Dictionary\n",
    "\n",
    "A dictionary is an ordered collection of items (starting from Python 3.7), therefore it maintains the order of its items.\n",
    "\n",
    "We can iterate through dictionary keys one by one using a for loop."
   ]
  },
  {
   "cell_type": "code",
   "execution_count": 63,
   "id": "047d0f99",
   "metadata": {},
   "outputs": [
    {
     "name": "stdout",
     "output_type": "stream",
     "text": [
      "United States\n",
      "Italy\n",
      "India\n",
      "Washington D.C.\n",
      "Rome\n",
      "Delhi\n"
     ]
    }
   ],
   "source": [
    "country_capitals = {\n",
    "  \"United States\": \"Washington D.C.\", \n",
    "  \"Italy\": \"Rome\" ,\n",
    "    \"India\" : \"Delhi\"\n",
    "}\n",
    "\n",
    "# print dictionary keys one by one\n",
    "for country in country_capitals:\n",
    "    print(country)\n",
    "\n",
    "# print()\n",
    "\n",
    "# # print dictionary values one by one\n",
    "\n",
    "for country in country_capitals:\n",
    "    capital = country_capitals[country]\n",
    "    print(capital)"
   ]
  },
  {
   "cell_type": "code",
   "execution_count": 64,
   "id": "c8fbc796",
   "metadata": {},
   "outputs": [
    {
     "name": "stdout",
     "output_type": "stream",
     "text": [
      "Washington D.C.\n",
      "Rome\n",
      "Delhi\n"
     ]
    }
   ],
   "source": [
    "# # print dictionary values one by one\n",
    "for country in country_capitals:\n",
    "    print(country_capitals[country])"
   ]
  },
  {
   "cell_type": "code",
   "execution_count": 65,
   "id": "fceffb46",
   "metadata": {},
   "outputs": [
    {
     "name": "stdout",
     "output_type": "stream",
     "text": [
      "Washington D.C.\n",
      "Rome\n",
      "Delhi\n",
      "0:00:00\n"
     ]
    }
   ],
   "source": [
    "import datetime\n",
    "tic = datetime.datetime.now()\n",
    "\n",
    "for country in country_capitals:\n",
    "    capital = country_capitals[country]\n",
    "    print(capital)\n",
    "    \n",
    "toc = datetime.datetime.now()\n",
    "\n",
    "print(toc - tic)"
   ]
  },
  {
   "cell_type": "code",
   "execution_count": 66,
   "id": "5ef3a159",
   "metadata": {},
   "outputs": [
    {
     "name": "stdout",
     "output_type": "stream",
     "text": [
      "Washington D.C.\n",
      "Rome\n",
      "Delhi\n",
      "0:00:00\n"
     ]
    }
   ],
   "source": [
    "import time\n",
    "tic = datetime.datetime.now()\n",
    "\n",
    "for country in country_capitals:\n",
    "    print(country_capitals[country])\n",
    "    \n",
    "toc = datetime.datetime.now()\n",
    "\n",
    "print(toc - tic)"
   ]
  },
  {
   "cell_type": "markdown",
   "id": "16357a31",
   "metadata": {},
   "source": [
    "### Python Dictionary keys()\n",
    "The keys() method extracts the keys of the dictionary and returns the list of keys as a view object."
   ]
  },
  {
   "cell_type": "code",
   "execution_count": 67,
   "id": "c47c2b4b",
   "metadata": {},
   "outputs": [
    {
     "name": "stdout",
     "output_type": "stream",
     "text": [
      "dict_keys([1, 2, 3])\n",
      "<class 'dict_keys'>\n"
     ]
    }
   ],
   "source": [
    "numbers = {1: 'one', 2: 'two', 3: 'three'}\n",
    "\n",
    "# extracts the keys of the dictionary\n",
    "dictionaryKeys = numbers.keys()\n",
    "\n",
    "print(dictionaryKeys)\n",
    "\n",
    "print(type(dictionaryKeys))"
   ]
  },
  {
   "cell_type": "code",
   "execution_count": 68,
   "id": "4452ee83",
   "metadata": {},
   "outputs": [
    {
     "name": "stdout",
     "output_type": "stream",
     "text": [
      "[1, 2, 3]\n"
     ]
    }
   ],
   "source": [
    "keys_list = list(dictionaryKeys)\n",
    "print(keys_list)"
   ]
  },
  {
   "cell_type": "markdown",
   "id": "8cb80188",
   "metadata": {},
   "source": [
    "### Python Dictionary values() \n",
    "The values() method returns a view object that displays a list of all the values in the dictionary."
   ]
  },
  {
   "cell_type": "code",
   "execution_count": 69,
   "id": "3f5441c1",
   "metadata": {},
   "outputs": [
    {
     "name": "stdout",
     "output_type": "stream",
     "text": [
      "dict_values([67, 87]) <class 'dict_values'>\n"
     ]
    }
   ],
   "source": [
    "marks = {'Physics':67, 'Maths':87}\n",
    "\n",
    "print(marks.values(), type(marks.values()))\n"
   ]
  },
  {
   "cell_type": "markdown",
   "id": "7063a93c",
   "metadata": {},
   "source": [
    "### Python Dictionary pop()\n",
    "\n",
    "The pop() method removes and returns an element from a dictionary having the given key."
   ]
  },
  {
   "cell_type": "code",
   "execution_count": 70,
   "id": "7f9b8a64",
   "metadata": {},
   "outputs": [
    {
     "name": "stdout",
     "output_type": "stream",
     "text": [
      "{'Physics': 67, 'Chemistry': 72, 'Math': 89}\n",
      "Popped Marks: 72\n",
      "{'Physics': 67, 'Math': 89}\n"
     ]
    }
   ],
   "source": [
    "# create a dictionary\n",
    "marks = { 'Physics': 67, 'Chemistry': 72, 'Math': 89 }\n",
    "\n",
    "print(marks)\n",
    "\n",
    "element = marks.pop('Chemistry')\n",
    "\n",
    "print('Popped Marks:', element)\n",
    "\n",
    "print(marks)"
   ]
  },
  {
   "cell_type": "markdown",
   "id": "c1edf55f",
   "metadata": {},
   "source": [
    "### Dictionary Membership Test\n",
    "\n",
    "We can check whether a key exists in a dictionary by using the in and not in operators."
   ]
  },
  {
   "cell_type": "code",
   "execution_count": 71,
   "id": "dfb689da",
   "metadata": {},
   "outputs": [
    {
     "name": "stdout",
     "output_type": "stream",
     "text": [
      "True\n",
      "False\n",
      "True\n"
     ]
    }
   ],
   "source": [
    "file_types = {\n",
    "    \".txt\": \"Text File\",\n",
    "    \".pdf\": \"PDF Document\",\n",
    "    \".jpg\": \"JPEG Image\",\n",
    "}\n",
    "\n",
    "# use of in and not in operators\n",
    "print(\".pdf\" in file_types)       \n",
    "print(\".mp3\" in file_types)       \n",
    "print(\".mp3\" not in file_types)  "
   ]
  },
  {
   "cell_type": "markdown",
   "id": "eb5cb41c",
   "metadata": {},
   "source": [
    "### Python Dictionary update()\n",
    "\n",
    "The update() method updates the dictionary with the elements from another dictionary object or from an iterable of key/value pairs."
   ]
  },
  {
   "cell_type": "code",
   "execution_count": 72,
   "id": "bf178085",
   "metadata": {},
   "outputs": [
    {
     "name": "stdout",
     "output_type": "stream",
     "text": [
      "{'Physics': 67, 'Maths': 87, 'Practical': 48, 'Chemistry': 67}\n"
     ]
    }
   ],
   "source": [
    "marks = {'Physics':67, 'Maths':87}\n",
    "internal_marks = {'Practical':48, 'Chemistry': 67 }\n",
    "\n",
    "marks.update(internal_marks)\n",
    "\n",
    "\n",
    "print(marks)\n"
   ]
  },
  {
   "cell_type": "code",
   "execution_count": null,
   "id": "b251bd12",
   "metadata": {},
   "outputs": [],
   "source": []
  },
  {
   "cell_type": "code",
   "execution_count": null,
   "id": "0623bad8",
   "metadata": {},
   "outputs": [],
   "source": []
  },
  {
   "cell_type": "markdown",
   "id": "57220b16",
   "metadata": {},
   "source": [
    "# Python range() Function\n",
    "\n",
    "The Python range() function generates a sequence of numbers.\n",
    "\n",
    "By default, the sequence starts at 0, increments by 1, and stops before the specified number. "
   ]
  },
  {
   "cell_type": "code",
   "execution_count": 73,
   "id": "2a67e337",
   "metadata": {},
   "outputs": [
    {
     "name": "stdout",
     "output_type": "stream",
     "text": [
      "2025-07-22 13:25:17.309197 0\n",
      "2025-07-22 13:25:17.309197 1\n",
      "2025-07-22 13:25:17.309197 2\n",
      "2025-07-22 13:25:17.309197 3\n",
      "<class 'range'>\n"
     ]
    }
   ],
   "source": [
    "# create a sequence from 0 to 3\n",
    "numbers = range(4)\n",
    "\n",
    "# iterating through the sequence\n",
    "for i in numbers:\n",
    "    now = datetime.datetime.now()\n",
    "    print(now, i)\n",
    "\n",
    "print(type(numbers))"
   ]
  },
  {
   "cell_type": "code",
   "execution_count": 74,
   "id": "04a00b45",
   "metadata": {},
   "outputs": [
    {
     "name": "stdout",
     "output_type": "stream",
     "text": [
      "range(0, 4) <class 'range'>\n"
     ]
    }
   ],
   "source": [
    "print(numbers, type(numbers))\n"
   ]
  },
  {
   "cell_type": "code",
   "execution_count": 75,
   "id": "983581f7",
   "metadata": {},
   "outputs": [
    {
     "name": "stdout",
     "output_type": "stream",
     "text": [
      "[0, 1, 2, 3]\n"
     ]
    }
   ],
   "source": [
    "print(list(numbers)) "
   ]
  },
  {
   "cell_type": "markdown",
   "id": "9c31a54a",
   "metadata": {},
   "source": [
    "### range() Syntax\n",
    "range(start, stop, step)"
   ]
  },
  {
   "cell_type": "code",
   "execution_count": 76,
   "id": "3ed5ebfb",
   "metadata": {},
   "outputs": [
    {
     "name": "stdout",
     "output_type": "stream",
     "text": [
      "[2, 3, 4]\n",
      "[-2, -1, 0, 1, 2, 3]\n",
      "[]\n",
      "[4, 3]\n"
     ]
    }
   ],
   "source": [
    "# create a sequence from 2 to 4 (5 is not included)\n",
    "numbers = range(2, 5)\n",
    "print(list(numbers))    \n",
    "\n",
    "# create a sequence from -2 to 3\n",
    "numbers = range(-2, 4)    \n",
    "print(list(numbers))    \n",
    "\n",
    "# creates an empty sequence\n",
    "numbers = range(4, 2) \n",
    "print(list(numbers))    \n",
    "\n",
    "numbers = range(4, 2, -1) \n",
    "print(list(numbers))    "
   ]
  },
  {
   "cell_type": "code",
   "execution_count": 77,
   "id": "f1c579d9",
   "metadata": {},
   "outputs": [
    {
     "name": "stdout",
     "output_type": "stream",
     "text": [
      "[2, 5, 8]\n",
      "[4, 3, 2, 1, 0]\n",
      "[0, 1, 2, 3, 4]\n"
     ]
    }
   ],
   "source": [
    "# create a sequence from 2 to 10 with increment of 3\n",
    "numbers = range(2, 10, 3)\n",
    "print(list(numbers))    \n",
    "\n",
    "# create a sequence from 4 to -1 with increment of -1\n",
    "numbers = range(4, -1, -1)    \n",
    "print(list(numbers))    \n",
    "\n",
    "# range(0, 5, 1) is equivalent to range(5)\n",
    "numbers = range(0, 5, 1) \n",
    "print(list(numbers))    "
   ]
  },
  {
   "cell_type": "code",
   "execution_count": null,
   "id": "1bd4e416",
   "metadata": {},
   "outputs": [],
   "source": []
  },
  {
   "cell_type": "code",
   "execution_count": null,
   "id": "01cfbb5b",
   "metadata": {},
   "outputs": [],
   "source": []
  },
  {
   "cell_type": "code",
   "execution_count": null,
   "id": "64a9c507",
   "metadata": {},
   "outputs": [],
   "source": []
  },
  {
   "cell_type": "markdown",
   "id": "94211b65",
   "metadata": {},
   "source": [
    "# Python datetime\n",
    "\n",
    "Python has a module named datetime to work with dates and times.\n",
    "\n",
    "It provides a variety of classes for representing and manipulating dates and times, as well as for formatting and parsing dates and times in a variety of formats."
   ]
  },
  {
   "cell_type": "markdown",
   "id": "59671edb",
   "metadata": {},
   "source": [
    "### Get Current Date and Time"
   ]
  },
  {
   "cell_type": "code",
   "execution_count": 78,
   "id": "2e1ca69b",
   "metadata": {},
   "outputs": [
    {
     "name": "stdout",
     "output_type": "stream",
     "text": [
      "2025-07-22 13:25:18.354383\n"
     ]
    }
   ],
   "source": [
    "from datetime import datetime\n",
    "\n",
    "now_3 = datetime.now()\n",
    "print(now_3)"
   ]
  },
  {
   "cell_type": "code",
   "execution_count": 79,
   "id": "e349ee40",
   "metadata": {},
   "outputs": [
    {
     "name": "stdout",
     "output_type": "stream",
     "text": [
      "2025-07-22 13:25:18.528656\n"
     ]
    }
   ],
   "source": [
    "import datetime\n",
    "\n",
    "# get the current date and time\n",
    "now_1 = datetime.datetime.now()\n",
    "\n",
    "print(now_1)"
   ]
  },
  {
   "cell_type": "code",
   "execution_count": 82,
   "id": "d20174ec",
   "metadata": {},
   "outputs": [
    {
     "data": {
      "text/plain": [
       "datetime.datetime(2025, 7, 22, 13, 25, 18, 528656)"
      ]
     },
     "execution_count": 82,
     "metadata": {},
     "output_type": "execute_result"
    }
   ],
   "source": [
    "now_1"
   ]
  },
  {
   "cell_type": "markdown",
   "id": "f0d0fd04",
   "metadata": {},
   "source": [
    "### Get Current Date"
   ]
  },
  {
   "cell_type": "code",
   "execution_count": 83,
   "id": "c5897dea",
   "metadata": {},
   "outputs": [
    {
     "name": "stdout",
     "output_type": "stream",
     "text": [
      "2025-07-22\n"
     ]
    }
   ],
   "source": [
    "import datetime\n",
    "\n",
    "# get current date\n",
    "current_date = datetime.date.today()\n",
    "\n",
    "print(current_date)"
   ]
  },
  {
   "cell_type": "code",
   "execution_count": 84,
   "id": "5784cb61",
   "metadata": {},
   "outputs": [
    {
     "name": "stdout",
     "output_type": "stream",
     "text": [
      "2025-07-22\n"
     ]
    }
   ],
   "source": [
    "from datetime import date\n",
    "current_date_1 = date.today()\n",
    "print(current_date_1)"
   ]
  },
  {
   "cell_type": "code",
   "execution_count": null,
   "id": "3c26c6b5",
   "metadata": {},
   "outputs": [],
   "source": []
  },
  {
   "cell_type": "markdown",
   "id": "28e26728",
   "metadata": {},
   "source": [
    "### Date object to represent a date"
   ]
  },
  {
   "cell_type": "code",
   "execution_count": 85,
   "id": "9c56c4aa",
   "metadata": {},
   "outputs": [
    {
     "name": "stdout",
     "output_type": "stream",
     "text": [
      "2025-07-22 13:25:39.909521\n",
      "2022-12-25 <class 'datetime.date'>\n"
     ]
    }
   ],
   "source": [
    "import datetime\n",
    "\n",
    "d = datetime.date(2022, 12, 25)\n",
    "\n",
    "print(datetime.datetime.now())\n",
    "print(d, type(d))"
   ]
  },
  {
   "cell_type": "code",
   "execution_count": 86,
   "id": "4dc5f9c6",
   "metadata": {},
   "outputs": [
    {
     "name": "stdout",
     "output_type": "stream",
     "text": [
      "2025-07-22 13:25:40.529305\n",
      "2022-12-25 00:00:00 <class 'datetime.datetime'>\n"
     ]
    }
   ],
   "source": [
    "dt = datetime.datetime(2022, 12, 25)\n",
    "\n",
    "print(datetime.datetime.now())\n",
    "print(dt, type(dt))"
   ]
  },
  {
   "cell_type": "markdown",
   "id": "9fd34a92",
   "metadata": {},
   "source": [
    "### Get the date from a timestamp\n",
    "\n",
    "We can also create date objects from a timestamp.\n",
    "\n",
    "A UNIX timestamp is the number of seconds between a particular date January 1, 1970, at UTC. You can convert a timestamp to a date using the fromtimestamp() method."
   ]
  },
  {
   "cell_type": "code",
   "execution_count": 87,
   "id": "e06e9e58",
   "metadata": {},
   "outputs": [
    {
     "name": "stdout",
     "output_type": "stream",
     "text": [
      "Date = 2043-09-30\n"
     ]
    }
   ],
   "source": [
    "\n",
    "timestamp = datetime.date.fromtimestamp(2327244364)\n",
    "print(\"Date =\", timestamp)"
   ]
  },
  {
   "cell_type": "markdown",
   "id": "608abcb9",
   "metadata": {},
   "source": [
    "### Print today's year, month and day"
   ]
  },
  {
   "cell_type": "code",
   "execution_count": 88,
   "id": "8a907e16",
   "metadata": {},
   "outputs": [
    {
     "name": "stdout",
     "output_type": "stream",
     "text": [
      "Current year: 2025\n",
      "Current month: 7\n",
      "Current day: 22\n"
     ]
    }
   ],
   "source": [
    "# date object of today's date\n",
    "today_1 = datetime.date.today() \n",
    "\n",
    "print(\"Current year:\", today_1.year)\n",
    "print(\"Current month:\", today_1.month)\n",
    "print(\"Current day:\", today_1.day)"
   ]
  },
  {
   "cell_type": "markdown",
   "id": "f07c7df1",
   "metadata": {},
   "source": [
    "### Time object to represent time"
   ]
  },
  {
   "cell_type": "code",
   "execution_count": 89,
   "id": "7e7d5d2c",
   "metadata": {},
   "outputs": [
    {
     "name": "stdout",
     "output_type": "stream",
     "text": [
      "00:00:00\n",
      "15:34:56\n",
      "11:34:56\n",
      "11:34:56.234566\n"
     ]
    }
   ],
   "source": [
    "from datetime import time\n",
    "\n",
    "# time(hour = 0, minute = 0, second = 0)\n",
    "a = time()\n",
    "print(a)\n",
    "\n",
    "# time(hour, minute and second)\n",
    "b = time(15, 34, 56)\n",
    "print(b)\n",
    "\n",
    "# time(hour, minute and second)\n",
    "c = time(hour = 11, minute = 34, second = 56)\n",
    "print(c)\n",
    "\n",
    "# time(hour, minute, second, microsecond)\n",
    "d = time(11, 34, 56, 234566)\n",
    "print(d)"
   ]
  },
  {
   "cell_type": "markdown",
   "id": "f3d26ac8",
   "metadata": {},
   "source": [
    "### Print hour, minute, second and microsecond"
   ]
  },
  {
   "cell_type": "code",
   "execution_count": 90,
   "id": "424429e4",
   "metadata": {},
   "outputs": [
    {
     "name": "stdout",
     "output_type": "stream",
     "text": [
      "Hour = 11\n",
      "Minute = 34\n",
      "Second = 56\n",
      "Microsecond = 0\n"
     ]
    }
   ],
   "source": [
    "from datetime import time\n",
    "\n",
    "a = time(11, 34, 56 )\n",
    "\n",
    "print(\"Hour =\", a.hour)\n",
    "print(\"Minute =\", a.minute)\n",
    "print(\"Second =\", a.second)\n",
    "print(\"Microsecond =\", a.microsecond)\n"
   ]
  },
  {
   "cell_type": "markdown",
   "id": "335864c1",
   "metadata": {},
   "source": [
    "### Python datetime object"
   ]
  },
  {
   "cell_type": "code",
   "execution_count": 91,
   "id": "c1f1da33",
   "metadata": {},
   "outputs": [
    {
     "name": "stdout",
     "output_type": "stream",
     "text": [
      "2022-12-28 00:00:00\n",
      "2022-12-28 23:55:59.342380\n"
     ]
    }
   ],
   "source": [
    "# datetime(year, month, day)\n",
    "a = datetime.datetime(2022, 12, 28)\n",
    "print(a)\n",
    "\n",
    "# datetime(year, month, day, hour, minute, second, microsecond)\n",
    "b = datetime.datetime(2022, 12, 28, 23, 55, 59, 342380)\n",
    "print(b)"
   ]
  },
  {
   "cell_type": "markdown",
   "id": "66642df2",
   "metadata": {},
   "source": [
    "### Python datetime.timedelta Class"
   ]
  },
  {
   "cell_type": "code",
   "execution_count": 92,
   "id": "7369d205",
   "metadata": {},
   "outputs": [
    {
     "name": "stdout",
     "output_type": "stream",
     "text": [
      "t3 = -201 days, 0:00:00\n",
      "t6 = -333 days, 1:14:20\n",
      "Type of t3 = <class 'datetime.timedelta'>\n",
      "Type of t6 = <class 'datetime.timedelta'>\n"
     ]
    }
   ],
   "source": [
    "# using date()\n",
    "t1 = datetime.date(year = 2018, month = 7, day = 12)\n",
    "t2 = datetime.date(year = 2017, month = 12, day = 23)\n",
    "\n",
    "t3 = t2 - t1\n",
    "\n",
    "print(\"t3 =\", t3)\n",
    "\n",
    "# using datetime()\n",
    "t4 = datetime.datetime(year = 2018, month = 7, day = 12, hour = 7, minute = 9, second = 33)\n",
    "t5 = datetime.datetime(year = 2019, month = 6, day = 10, hour = 5, minute = 55, second = 13)\n",
    "t6 = t4 - t5\n",
    "print(\"t6 =\", t6)\n",
    "\n",
    "print(\"Type of t3 =\", type(t3)) \n",
    "print(\"Type of t6 =\", type(t6))  "
   ]
  },
  {
   "cell_type": "code",
   "execution_count": null,
   "id": "2a5422fe",
   "metadata": {},
   "outputs": [],
   "source": []
  },
  {
   "cell_type": "code",
   "execution_count": 93,
   "id": "472ac9f2",
   "metadata": {},
   "outputs": [
    {
     "name": "stdout",
     "output_type": "stream",
     "text": [
      "initial_date: 2025-07-22 13:25:43.854993\n",
      "past_date_before_2yrs: 2023-07-23 13:25:43.854993\n",
      "past_date_before_2hours: 2025-07-22 11:25:43.854993\n"
     ]
    }
   ],
   "source": [
    "# Timedelta function demonstration \n",
    "from datetime import datetime, timedelta\n",
    "\n",
    "\n",
    "# Using current time\n",
    "ini_time_for_now = datetime.now()\n",
    "\n",
    "# printing initial_date\n",
    "print ('initial_date:', str(ini_time_for_now))\n",
    "\n",
    "# Calculating past dates\n",
    "# for two years\n",
    "past_date_before_2yrs = ini_time_for_now - \\\n",
    "                       timedelta(days = 730)\n",
    "\n",
    "# for two hours\n",
    "past_date_before_2hours = ini_time_for_now - \\\n",
    "                        timedelta(hours = 2)\n",
    "\n",
    "\n",
    "# printing calculated past_dates\n",
    "print('past_date_before_2yrs:', str(past_date_before_2yrs))\n",
    "print('past_date_before_2hours:', str(past_date_before_2hours))\n"
   ]
  },
  {
   "cell_type": "code",
   "execution_count": 94,
   "id": "1e60fcea",
   "metadata": {},
   "outputs": [
    {
     "name": "stdout",
     "output_type": "stream",
     "text": [
      "2025-07-22 19:25:43.854993\n"
     ]
    }
   ],
   "source": [
    "next_6hour = ini_time_for_now + \\\n",
    "                        timedelta(hours = 6)\n",
    "\n",
    "print(next_6hour)"
   ]
  },
  {
   "cell_type": "markdown",
   "id": "05616475",
   "metadata": {},
   "source": [
    "### Time duration in seconds\n",
    "\n",
    "We can get the total number of seconds in a timedelta object using the total_seconds() method."
   ]
  },
  {
   "cell_type": "code",
   "execution_count": 95,
   "id": "58bcdd84",
   "metadata": {},
   "outputs": [
    {
     "name": "stdout",
     "output_type": "stream",
     "text": [
      "Total seconds = 435633.233423\n"
     ]
    }
   ],
   "source": [
    "from datetime import timedelta\n",
    "\n",
    "t = timedelta(days = 5, hours = 1, seconds = 33, microseconds = 233423)\n",
    "print(\"Total seconds =\", t.total_seconds())"
   ]
  },
  {
   "cell_type": "markdown",
   "id": "08a19006",
   "metadata": {},
   "source": [
    "### Python format datetime\n",
    "\n",
    "The way date and time are represented may be different in different places, organizations, etc. It's more common to use mm/dd/yyyy in the US, whereas dd/mm/yyyy is more common in the UK.\n",
    "\n",
    "Python has strftime() and strptime() methods to handle this."
   ]
  },
  {
   "cell_type": "markdown",
   "id": "b6422a15",
   "metadata": {},
   "source": [
    "### Python strftime() Method\n",
    "\n",
    "The strftime() method is defined under classes date, datetime and time. The method creates a formatted string from a given date, datetime or time object."
   ]
  },
  {
   "cell_type": "code",
   "execution_count": 96,
   "id": "10efe361",
   "metadata": {},
   "outputs": [
    {
     "name": "stdout",
     "output_type": "stream",
     "text": [
      "Time: 13:25:44\n",
      "<class 'str'>\n",
      "s1: 07/22/2025, 13:25:44\n",
      "s2: 22/07/2025, 13:25:44\n"
     ]
    }
   ],
   "source": [
    "from datetime import datetime\n",
    "\n",
    "# current date and time\n",
    "now_1 = datetime.now()\n",
    "\n",
    "t = now_1.strftime(\"%H:%M:%S\")\n",
    "print(\"Time:\", t)\n",
    "print(type(t))\n",
    "\n",
    "s1 = now_1.strftime(\"%m/%d/%Y, %H:%M:%S\")\n",
    "# mm/dd/YY H:M:S format\n",
    "print(\"s1:\", s1)\n",
    "\n",
    "s2 = now_1.strftime(\"%d/%m/%Y, %H:%M:%S\")\n",
    "# dd/mm/YY H:M:S format\n",
    "print(\"s2:\", s2)"
   ]
  },
  {
   "cell_type": "markdown",
   "id": "c819a55f",
   "metadata": {},
   "source": [
    "### Python strptime() Method\n",
    "\n",
    "The strptime() method creates a datetime object from a given string (representing date and time)."
   ]
  },
  {
   "cell_type": "code",
   "execution_count": 97,
   "id": "19505d48",
   "metadata": {},
   "outputs": [
    {
     "name": "stdout",
     "output_type": "stream",
     "text": [
      "date_string = 25 December, 2022\n",
      "date_object = 2022-12-25 00:00:00\n"
     ]
    }
   ],
   "source": [
    "from datetime import datetime\n",
    "\n",
    "date_string = \"25 December, 2022\"\n",
    "print(\"date_string =\", date_string)\n",
    "\n",
    "# use strptime() to create date object\n",
    "date_object = datetime.strptime(date_string, \"%d %B, %Y\")\n",
    "\n",
    "print(\"date_object =\", date_object)"
   ]
  },
  {
   "cell_type": "code",
   "execution_count": null,
   "id": "1b23e168",
   "metadata": {},
   "outputs": [],
   "source": []
  },
  {
   "cell_type": "code",
   "execution_count": null,
   "id": "7bca3d0f",
   "metadata": {},
   "outputs": [],
   "source": []
  }
 ],
 "metadata": {
  "kernelspec": {
   "display_name": "Python 3 (ipykernel)",
   "language": "python",
   "name": "python3"
  },
  "language_info": {
   "codemirror_mode": {
    "name": "ipython",
    "version": 3
   },
   "file_extension": ".py",
   "mimetype": "text/x-python",
   "name": "python",
   "nbconvert_exporter": "python",
   "pygments_lexer": "ipython3",
   "version": "3.8.18"
  }
 },
 "nbformat": 4,
 "nbformat_minor": 5
}
