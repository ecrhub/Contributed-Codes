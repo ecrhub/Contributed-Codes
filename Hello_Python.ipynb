{
 "cells": [
  {
   "cell_type": "markdown",
   "id": "513b0943",
   "metadata": {},
   "source": [
    "# Hello Python"
   ]
  },
  {
   "cell_type": "code",
   "execution_count": 1,
   "id": "f246507b",
   "metadata": {},
   "outputs": [
    {
     "name": "stdout",
     "output_type": "stream",
     "text": [
      "Hello Python\n"
     ]
    }
   ],
   "source": [
    "print('Hello Python')\n"
   ]
  },
  {
   "cell_type": "markdown",
   "id": "e931b765",
   "metadata": {},
   "source": [
    "### Check your python version"
   ]
  },
  {
   "cell_type": "code",
   "execution_count": 2,
   "id": "94fc21d1",
   "metadata": {},
   "outputs": [
    {
     "name": "stdout",
     "output_type": "stream",
     "text": [
      "Python 3.8.18\n"
     ]
    }
   ],
   "source": [
    "!python -V"
   ]
  },
  {
   "cell_type": "code",
   "execution_count": 3,
   "id": "1ec57fa1",
   "metadata": {},
   "outputs": [
    {
     "name": "stderr",
     "output_type": "stream",
     "text": [
      "'pwd' is not recognized as an internal or external command,\n",
      "operable program or batch file.\n"
     ]
    }
   ],
   "source": [
    "!pwd"
   ]
  },
  {
   "cell_type": "markdown",
   "id": "062b671c",
   "metadata": {},
   "source": [
    "# Variables"
   ]
  },
  {
   "cell_type": "markdown",
   "id": "dcc611a1",
   "metadata": {},
   "source": [
    "### Let's create some variables"
   ]
  },
  {
   "cell_type": "code",
   "execution_count": 4,
   "id": "afe36996",
   "metadata": {},
   "outputs": [],
   "source": [
    "## Let's create some variables\n",
    "\n",
    "a_1 = 10\n",
    "a_2 = 11.2\n",
    "a_3 = 'Python'\n",
    "a_4 = True\n",
    "\n"
   ]
  },
  {
   "cell_type": "markdown",
   "id": "51b7d16d",
   "metadata": {},
   "source": [
    "### Let's print those variables"
   ]
  },
  {
   "cell_type": "code",
   "execution_count": 5,
   "id": "25111544",
   "metadata": {},
   "outputs": [
    {
     "name": "stdout",
     "output_type": "stream",
     "text": [
      "10\n",
      "11.2\n",
      "Python\n",
      "True\n"
     ]
    }
   ],
   "source": [
    "## Let's print those variables\n",
    "print(a_1)\n",
    "print(a_2) \n",
    "print(a_3)\n",
    "print(a_4)"
   ]
  },
  {
   "cell_type": "markdown",
   "id": "6815edb1",
   "metadata": {},
   "source": [
    "### Let's print the types of variables"
   ]
  },
  {
   "cell_type": "code",
   "execution_count": 6,
   "id": "3b4cc5e3",
   "metadata": {},
   "outputs": [
    {
     "name": "stdout",
     "output_type": "stream",
     "text": [
      "<class 'int'>\n",
      "<class 'float'>\n",
      "<class 'str'>\n",
      "<class 'bool'>\n"
     ]
    }
   ],
   "source": [
    "## Let's print the types of variables\n",
    "\n",
    "print(type(a_1))\n",
    "print(type(a_2))\n",
    "print(type(a_3))\n",
    "print(type(a_4))"
   ]
  },
  {
   "cell_type": "markdown",
   "id": "510f2173",
   "metadata": {},
   "source": [
    "### Let's try to add two different type of variables"
   ]
  },
  {
   "cell_type": "code",
   "execution_count": 7,
   "id": "a735f69c",
   "metadata": {},
   "outputs": [
    {
     "name": "stdout",
     "output_type": "stream",
     "text": [
      "21.2\n"
     ]
    }
   ],
   "source": [
    "## Let's try to add two different type of variables\n",
    "a_5 = a_1 + a_2\n",
    "print(a_5)"
   ]
  },
  {
   "cell_type": "markdown",
   "id": "075c2c8d",
   "metadata": {},
   "source": [
    "# Python can automatically convert integer to floats if required"
   ]
  },
  {
   "cell_type": "markdown",
   "id": "760bc93d",
   "metadata": {},
   "source": [
    "### What if we try to change float and int!!!"
   ]
  },
  {
   "cell_type": "code",
   "execution_count": 8,
   "id": "dfc75315",
   "metadata": {},
   "outputs": [
    {
     "name": "stdout",
     "output_type": "stream",
     "text": [
      "11 <class 'int'>\n",
      "10.0 <class 'float'>\n"
     ]
    }
   ],
   "source": [
    "## What if we try to change float and int!!!\n",
    "print(int(a_2), type(int(a_2)))\n",
    "\n",
    "print(float(a_1), type(float(a_1)))"
   ]
  },
  {
   "cell_type": "markdown",
   "id": "1b873a9b",
   "metadata": {},
   "source": [
    "### Did this operations change the original variables??"
   ]
  },
  {
   "cell_type": "code",
   "execution_count": 9,
   "id": "e5017432",
   "metadata": {},
   "outputs": [
    {
     "name": "stdout",
     "output_type": "stream",
     "text": [
      "10 <class 'int'>\n",
      "11.2 <class 'float'>\n"
     ]
    }
   ],
   "source": [
    "## Did this operations change the original variables??\n",
    "\n",
    "print(a_1, type(a_1))\n",
    "print(a_2, type(a_2))"
   ]
  },
  {
   "cell_type": "markdown",
   "id": "6f8bdd35",
   "metadata": {},
   "source": [
    "### Can we add numbers to a string??"
   ]
  },
  {
   "cell_type": "code",
   "execution_count": 11,
   "id": "38af0c00",
   "metadata": {},
   "outputs": [
    {
     "ename": "TypeError",
     "evalue": "unsupported operand type(s) for +: 'int' and 'str'",
     "output_type": "error",
     "traceback": [
      "\u001b[1;31m---------------------------------------------------------------------------\u001b[0m",
      "\u001b[1;31mTypeError\u001b[0m                                 Traceback (most recent call last)",
      "Cell \u001b[1;32mIn[11], line 2\u001b[0m\n\u001b[0;32m      1\u001b[0m \u001b[38;5;66;03m## Can we add numbers to a sting??\u001b[39;00m\n\u001b[1;32m----> 2\u001b[0m a_6 \u001b[38;5;241m=\u001b[39m \u001b[43ma_1\u001b[49m\u001b[43m \u001b[49m\u001b[38;5;241;43m+\u001b[39;49m\u001b[43m \u001b[49m\u001b[43ma_3\u001b[49m\n\u001b[0;32m      3\u001b[0m \u001b[38;5;28mprint\u001b[39m(a_6)\n",
      "\u001b[1;31mTypeError\u001b[0m: unsupported operand type(s) for +: 'int' and 'str'"
     ]
    }
   ],
   "source": [
    "## Can we add numbers to a sting??\n",
    "a_6 = a_1 + a_3\n",
    "print(a_6)"
   ]
  },
  {
   "cell_type": "markdown",
   "id": "6526e8f2",
   "metadata": {},
   "source": [
    "### Let's try something else"
   ]
  },
  {
   "cell_type": "code",
   "execution_count": 12,
   "id": "e9a8c064",
   "metadata": {},
   "outputs": [
    {
     "ename": "TypeError",
     "evalue": "unsupported operand type(s) for +: 'int' and 'str'",
     "output_type": "error",
     "traceback": [
      "\u001b[1;31m---------------------------------------------------------------------------\u001b[0m",
      "\u001b[1;31mTypeError\u001b[0m                                 Traceback (most recent call last)",
      "Cell \u001b[1;32mIn[12], line 4\u001b[0m\n\u001b[0;32m      1\u001b[0m \u001b[38;5;66;03m## Let's try something else\u001b[39;00m\n\u001b[0;32m      3\u001b[0m a_7 \u001b[38;5;241m=\u001b[39m \u001b[38;5;124m'\u001b[39m\u001b[38;5;124m22\u001b[39m\u001b[38;5;124m'\u001b[39m\n\u001b[1;32m----> 4\u001b[0m a_6 \u001b[38;5;241m=\u001b[39m \u001b[43ma_1\u001b[49m\u001b[43m \u001b[49m\u001b[38;5;241;43m+\u001b[39;49m\u001b[43m \u001b[49m\u001b[43ma_7\u001b[49m\n\u001b[0;32m      5\u001b[0m \u001b[38;5;28mprint\u001b[39m(a_6)\n",
      "\u001b[1;31mTypeError\u001b[0m: unsupported operand type(s) for +: 'int' and 'str'"
     ]
    }
   ],
   "source": [
    "## Let's try something else\n",
    "\n",
    "a_7 = '22'\n",
    "a_6 = a_1 + a_7\n",
    "print(a_6)"
   ]
  },
  {
   "cell_type": "markdown",
   "id": "cef116a7",
   "metadata": {},
   "source": [
    "### What about boolean?\n"
   ]
  },
  {
   "cell_type": "code",
   "execution_count": 13,
   "id": "7a084dd6",
   "metadata": {},
   "outputs": [
    {
     "name": "stdout",
     "output_type": "stream",
     "text": [
      "It is TRUE\n"
     ]
    }
   ],
   "source": [
    "if a_4:\n",
    "    print('It is TRUE')"
   ]
  },
  {
   "cell_type": "markdown",
   "id": "90b61511",
   "metadata": {},
   "source": [
    "### What was that!!!"
   ]
  },
  {
   "cell_type": "code",
   "execution_count": 14,
   "id": "8a27f6ad",
   "metadata": {},
   "outputs": [],
   "source": [
    "a_8 = False\n",
    "\n",
    "if a_8:\n",
    "    print('It is FALSE')"
   ]
  },
  {
   "cell_type": "code",
   "execution_count": 15,
   "id": "d11c616d",
   "metadata": {},
   "outputs": [
    {
     "name": "stdout",
     "output_type": "stream",
     "text": [
      "It is FALSE\n"
     ]
    }
   ],
   "source": [
    "if a_8 == False:\n",
    "    print('It is FALSE')"
   ]
  },
  {
   "cell_type": "markdown",
   "id": "0b924bb8",
   "metadata": {},
   "source": [
    "### What did just happen!!!"
   ]
  },
  {
   "cell_type": "markdown",
   "id": "2067412d",
   "metadata": {},
   "source": [
    "### Let's try other booleans"
   ]
  },
  {
   "cell_type": "code",
   "execution_count": 16,
   "id": "c6fc424a",
   "metadata": {},
   "outputs": [
    {
     "data": {
      "text/plain": [
       "True"
      ]
     },
     "execution_count": 16,
     "metadata": {},
     "output_type": "execute_result"
    }
   ],
   "source": [
    "type(a_1) == int"
   ]
  },
  {
   "cell_type": "code",
   "execution_count": 17,
   "id": "4c7d4796",
   "metadata": {},
   "outputs": [
    {
     "name": "stdout",
     "output_type": "stream",
     "text": [
      "It is TRUE\n"
     ]
    }
   ],
   "source": [
    "if type(a_1) == int:\n",
    "    print('It is TRUE')"
   ]
  },
  {
   "cell_type": "code",
   "execution_count": 18,
   "id": "9b89783d",
   "metadata": {},
   "outputs": [
    {
     "name": "stdout",
     "output_type": "stream",
     "text": [
      "It is FALSE and that is the TRUTH\n"
     ]
    }
   ],
   "source": [
    "if a_8 == False:\n",
    "    print('It is FALSE and that is the TRUTH')"
   ]
  },
  {
   "cell_type": "code",
   "execution_count": 19,
   "id": "25ee1c48",
   "metadata": {},
   "outputs": [],
   "source": [
    "if a_8 == 'False':\n",
    "    print('It is FALSE and that is the TRUTH')"
   ]
  },
  {
   "cell_type": "markdown",
   "id": "835ee4a3",
   "metadata": {},
   "source": [
    "### Let's count string characters"
   ]
  },
  {
   "cell_type": "code",
   "execution_count": 20,
   "id": "c590ebe0",
   "metadata": {},
   "outputs": [
    {
     "data": {
      "text/plain": [
       "6"
      ]
     },
     "execution_count": 20,
     "metadata": {},
     "output_type": "execute_result"
    }
   ],
   "source": [
    "len(a_3)"
   ]
  },
  {
   "cell_type": "code",
   "execution_count": 21,
   "id": "cf1af32b",
   "metadata": {},
   "outputs": [
    {
     "data": {
      "text/plain": [
       "'t'"
      ]
     },
     "execution_count": 21,
     "metadata": {},
     "output_type": "execute_result"
    }
   ],
   "source": [
    "a_3[2]"
   ]
  },
  {
   "cell_type": "code",
   "execution_count": 22,
   "id": "69b6d475",
   "metadata": {},
   "outputs": [
    {
     "data": {
      "text/plain": [
       "str"
      ]
     },
     "execution_count": 22,
     "metadata": {},
     "output_type": "execute_result"
    }
   ],
   "source": [
    "type(a_3[2])"
   ]
  },
  {
   "cell_type": "markdown",
   "id": "1109801a",
   "metadata": {},
   "source": [
    "### Can we add two strings?"
   ]
  },
  {
   "cell_type": "code",
   "execution_count": 23,
   "id": "3cc9b1d7",
   "metadata": {},
   "outputs": [
    {
     "name": "stdout",
     "output_type": "stream",
     "text": [
      "PythonClasses\n"
     ]
    }
   ],
   "source": [
    "a_9 = 'Classes'\n",
    "a_10 = a_3 + a_9\n",
    "print(a_10)"
   ]
  },
  {
   "cell_type": "markdown",
   "id": "6f65d48b",
   "metadata": {},
   "source": [
    "### Let's convert string to number"
   ]
  },
  {
   "cell_type": "code",
   "execution_count": 24,
   "id": "3c5fd58e",
   "metadata": {},
   "outputs": [
    {
     "ename": "ValueError",
     "evalue": "could not convert string to float: 'Python'",
     "output_type": "error",
     "traceback": [
      "\u001b[1;31m---------------------------------------------------------------------------\u001b[0m",
      "\u001b[1;31mValueError\u001b[0m                                Traceback (most recent call last)",
      "Cell \u001b[1;32mIn[24], line 1\u001b[0m\n\u001b[1;32m----> 1\u001b[0m a_11 \u001b[38;5;241m=\u001b[39m \u001b[38;5;28;43mfloat\u001b[39;49m\u001b[43m(\u001b[49m\u001b[43ma_3\u001b[49m\u001b[43m)\u001b[49m\n",
      "\u001b[1;31mValueError\u001b[0m: could not convert string to float: 'Python'"
     ]
    }
   ],
   "source": [
    "a_11 = float(a_3)"
   ]
  },
  {
   "cell_type": "code",
   "execution_count": 25,
   "id": "bf084206",
   "metadata": {},
   "outputs": [
    {
     "name": "stdout",
     "output_type": "stream",
     "text": [
      "22 <class 'str'>\n",
      "22.0 <class 'float'>\n"
     ]
    }
   ],
   "source": [
    "print(a_7, type(a_7))\n",
    "print(float(a_7), type(float(a_7)))"
   ]
  },
  {
   "cell_type": "markdown",
   "id": "c6bb91a3",
   "metadata": {},
   "source": [
    "### Simple 'while' operations"
   ]
  },
  {
   "cell_type": "code",
   "execution_count": 26,
   "id": "c667bee0",
   "metadata": {},
   "outputs": [
    {
     "name": "stdout",
     "output_type": "stream",
     "text": [
      "2\n",
      "3\n",
      "4\n",
      "5\n",
      "6\n",
      "7\n",
      "8\n",
      "9\n"
     ]
    }
   ],
   "source": [
    "b_1 = 2\n",
    "\n",
    "while b_1 < 10:\n",
    "    print(b_1)\n",
    "    b_1 += 1"
   ]
  },
  {
   "cell_type": "code",
   "execution_count": null,
   "id": "96734e11",
   "metadata": {},
   "outputs": [],
   "source": []
  },
  {
   "cell_type": "code",
   "execution_count": null,
   "id": "e1f26301",
   "metadata": {},
   "outputs": [],
   "source": []
  },
  {
   "cell_type": "markdown",
   "id": "09289997",
   "metadata": {},
   "source": [
    "# List\n",
    "\n",
    "Lists are used to store multiple items in a single variable.\n",
    "\n",
    "Lists are one of 4 built-in data types in Python used to store collections of data, the other 3 are Tuple, Set, and Dictionary, all with different qualities and usage.\n",
    "\n",
    "Lists are created using square brackets:"
   ]
  },
  {
   "cell_type": "code",
   "execution_count": 27,
   "id": "17b95b4d",
   "metadata": {},
   "outputs": [
    {
     "name": "stdout",
     "output_type": "stream",
     "text": [
      "['apple', 'banana', 'cherry']\n"
     ]
    }
   ],
   "source": [
    "## Let's create a list of stings\n",
    "list_1 = [\"apple\", \"banana\", \"cherry\"]\n",
    "print(list_1)\n"
   ]
  },
  {
   "cell_type": "code",
   "execution_count": 28,
   "id": "02b5b103",
   "metadata": {},
   "outputs": [
    {
     "name": "stdout",
     "output_type": "stream",
     "text": [
      "<class 'list'>\n"
     ]
    }
   ],
   "source": [
    "print(type(list_1))\n"
   ]
  },
  {
   "cell_type": "code",
   "execution_count": 29,
   "id": "8648a313",
   "metadata": {},
   "outputs": [
    {
     "name": "stdout",
     "output_type": "stream",
     "text": [
      "apple\n"
     ]
    }
   ],
   "source": [
    "print(list_1[0])\n"
   ]
  },
  {
   "cell_type": "code",
   "execution_count": 30,
   "id": "bfe9ce9b",
   "metadata": {},
   "outputs": [
    {
     "name": "stdout",
     "output_type": "stream",
     "text": [
      "<class 'str'>\n"
     ]
    }
   ],
   "source": [
    "print(type(list_1[0]))\n"
   ]
  },
  {
   "cell_type": "code",
   "execution_count": 31,
   "id": "896e9d2f",
   "metadata": {},
   "outputs": [
    {
     "name": "stdout",
     "output_type": "stream",
     "text": [
      "l\n"
     ]
    }
   ],
   "source": [
    "print(list_1[0][3])"
   ]
  },
  {
   "cell_type": "code",
   "execution_count": 32,
   "id": "baa66fb8",
   "metadata": {},
   "outputs": [
    {
     "name": "stdout",
     "output_type": "stream",
     "text": [
      "[5.6, 6.0, 8.5]\n"
     ]
    }
   ],
   "source": [
    "## Let's create a list of floats\n",
    "list_2 = [5.6, 6.0, 8.5]\n",
    "print(list_2)"
   ]
  },
  {
   "cell_type": "code",
   "execution_count": 33,
   "id": "049f8ca4",
   "metadata": {},
   "outputs": [
    {
     "name": "stdout",
     "output_type": "stream",
     "text": [
      "[5.6, 6, 'Pune', True, 'IITM']\n"
     ]
    }
   ],
   "source": [
    "## Let's create a mixed list\n",
    "list_3 = [5.6, 6, 'Pune', True, 'IITM']\n",
    "print(list_3)"
   ]
  },
  {
   "cell_type": "code",
   "execution_count": 34,
   "id": "b37f839d",
   "metadata": {},
   "outputs": [
    {
     "name": "stdout",
     "output_type": "stream",
     "text": [
      "<class 'bool'>\n"
     ]
    }
   ],
   "source": [
    "print(type(list_3[3]))"
   ]
  },
  {
   "cell_type": "code",
   "execution_count": 35,
   "id": "15c75852",
   "metadata": {},
   "outputs": [
    {
     "data": {
      "text/plain": [
       "5"
      ]
     },
     "execution_count": 35,
     "metadata": {},
     "output_type": "execute_result"
    }
   ],
   "source": [
    "len(list_3)"
   ]
  },
  {
   "cell_type": "code",
   "execution_count": null,
   "id": "f2624d16",
   "metadata": {},
   "outputs": [],
   "source": []
  }
 ],
 "metadata": {
  "kernelspec": {
   "display_name": "Python 3 (ipykernel)",
   "language": "python",
   "name": "python3"
  },
  "language_info": {
   "codemirror_mode": {
    "name": "ipython",
    "version": 3
   },
   "file_extension": ".py",
   "mimetype": "text/x-python",
   "name": "python",
   "nbconvert_exporter": "python",
   "pygments_lexer": "ipython3",
   "version": "3.8.18"
  }
 },
 "nbformat": 4,
 "nbformat_minor": 5
}
