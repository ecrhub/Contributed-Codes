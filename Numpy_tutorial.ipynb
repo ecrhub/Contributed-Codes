{
 "cells": [
  {
   "cell_type": "markdown",
   "id": "f1500ba6",
   "metadata": {},
   "source": [
    "# What Is NumPy?\n",
    "\n",
    "\n",
    "#### NumPy, short for Numerical Python, is a powerful library for numerical computing in Python. It supports arrays, matrices, and a collection of mathematical functions to operate on these data structures efficiently. "
   ]
  },
  {
   "cell_type": "markdown",
   "id": "167084d5",
   "metadata": {},
   "source": [
    "# Features of NumPy\n",
    "\n",
    "#### N-dimensional Arrays: Provides support for multi-dimensional arrays.\n",
    "#### Mathematical Functions: Offers a variety of mathematical functions for operations on arrays.\n",
    "#### Random Number Generation: Includes functionality for generating random numbers.\n",
    "#### Linear Algebra: Contains routines for linear algebra operations.\n",
    "#### Fourier Transforms: Supports Fourier transform capabilities.\n",
    "#### Integration with C/C++: Allows integration with C/C++ code for performance-critical operations.\n"
   ]
  },
  {
   "cell_type": "markdown",
   "id": "91091688",
   "metadata": {},
   "source": [
    "# Creating Arrays"
   ]
  },
  {
   "cell_type": "code",
   "execution_count": 1,
   "id": "f28bac06",
   "metadata": {},
   "outputs": [
    {
     "name": "stdout",
     "output_type": "stream",
     "text": [
      "[1 2 3 4 5]\n",
      "<class 'numpy.ndarray'>\n",
      "(5,)\n"
     ]
    }
   ],
   "source": [
    "import numpy as np\n",
    "\n",
    "# Creating a 1D array\n",
    "\n",
    "arr_1d = np.array([1, 2, 3, 4, 5])\n",
    "\n",
    "print(arr_1d)\n",
    "\n",
    "print(type(arr_1d))\n",
    "\n",
    "print(arr_1d.shape)"
   ]
  },
  {
   "cell_type": "code",
   "execution_count": 2,
   "id": "c89076a8",
   "metadata": {},
   "outputs": [
    {
     "name": "stdout",
     "output_type": "stream",
     "text": [
      "[[1 2 3]\n",
      " [4 5 6]]\n",
      "<class 'numpy.ndarray'>\n",
      "(2, 3)\n"
     ]
    }
   ],
   "source": [
    "# Creating a 2D array\n",
    "\n",
    "arr_2d = np.array([[1, 2, 3], [4, 5, 6]])\n",
    "\n",
    "print(arr_2d)\n",
    "\n",
    "print(type(arr_2d))\n",
    "\n",
    "print(arr_2d.shape)"
   ]
  },
  {
   "cell_type": "markdown",
   "id": "1f03219c",
   "metadata": {},
   "source": [
    "### Creates an array of given shape filled with zeros."
   ]
  },
  {
   "cell_type": "code",
   "execution_count": 3,
   "id": "196c37a5",
   "metadata": {},
   "outputs": [
    {
     "name": "stdout",
     "output_type": "stream",
     "text": [
      "[0. 0. 0. 0.]\n",
      "(4,)\n"
     ]
    }
   ],
   "source": [
    "arr_zero_1 = np.zeros(4)\n",
    "\n",
    "print(arr_zero_1)\n",
    "print(arr_zero_1.shape)"
   ]
  },
  {
   "cell_type": "code",
   "execution_count": 4,
   "id": "6e7d3e74",
   "metadata": {},
   "outputs": [
    {
     "name": "stdout",
     "output_type": "stream",
     "text": [
      "[[0. 0. 0. 0. 0. 0.]\n",
      " [0. 0. 0. 0. 0. 0.]\n",
      " [0. 0. 0. 0. 0. 0.]\n",
      " [0. 0. 0. 0. 0. 0.]]\n",
      "(4, 6)\n"
     ]
    }
   ],
   "source": [
    "arr_zero_2 = np.zeros((4 , 6))\n",
    "\n",
    "print(arr_zero_2)\n",
    "print(arr_zero_2.shape)"
   ]
  },
  {
   "cell_type": "markdown",
   "id": "4d6355a0",
   "metadata": {},
   "source": [
    "### Creates an array of given shape filled with ones."
   ]
  },
  {
   "cell_type": "code",
   "execution_count": 5,
   "id": "a45a53dc",
   "metadata": {},
   "outputs": [
    {
     "name": "stdout",
     "output_type": "stream",
     "text": [
      "[[1. 1. 1. 1. 1.]\n",
      " [1. 1. 1. 1. 1.]\n",
      " [1. 1. 1. 1. 1.]\n",
      " [1. 1. 1. 1. 1.]]\n",
      "(4, 5)\n"
     ]
    }
   ],
   "source": [
    "arr_one_1 = np.ones((4, 5))\n",
    "\n",
    "print(arr_one_1)\n",
    "print(arr_one_1.shape)"
   ]
  },
  {
   "cell_type": "markdown",
   "id": "aa344ff7",
   "metadata": {},
   "source": [
    "### Creates an array of given shape filled with NaN."
   ]
  },
  {
   "cell_type": "code",
   "execution_count": 6,
   "id": "10bab6fb",
   "metadata": {},
   "outputs": [
    {
     "name": "stdout",
     "output_type": "stream",
     "text": [
      "[[ 1.  1.  1.  1.  1.]\n",
      " [ 1. nan nan  1.  1.]\n",
      " [ 1.  1.  1.  1.  1.]\n",
      " [ 1.  1.  1.  1.  1.]]\n",
      "(4, 5)\n"
     ]
    }
   ],
   "source": [
    "arr_nan_1 = np.empty([4, 5])\n",
    "arr_nan_1[1, 1:3] = np.nan\n",
    "\n",
    "print(arr_nan_1)\n",
    "print(arr_nan_1.shape)"
   ]
  },
  {
   "cell_type": "code",
   "execution_count": 7,
   "id": "2f4e9fd6",
   "metadata": {},
   "outputs": [
    {
     "name": "stdout",
     "output_type": "stream",
     "text": [
      "[[nan nan nan nan nan nan]\n",
      " [nan nan nan nan nan nan]\n",
      " [nan nan nan nan nan nan]\n",
      " [nan nan nan nan nan nan]\n",
      " [nan nan nan nan nan nan]]\n",
      "(5, 6)\n"
     ]
    }
   ],
   "source": [
    "arr_nan_2 = np.full((5, 6), np.nan)\n",
    "\n",
    "print(arr_nan_2)\n",
    "print(arr_nan_2.shape)"
   ]
  },
  {
   "cell_type": "code",
   "execution_count": null,
   "id": "9dea5dce",
   "metadata": {},
   "outputs": [],
   "source": []
  },
  {
   "cell_type": "markdown",
   "id": "3371349c",
   "metadata": {},
   "source": [
    "### Creates an array with a range of values."
   ]
  },
  {
   "cell_type": "code",
   "execution_count": 8,
   "id": "6162c77c",
   "metadata": {},
   "outputs": [
    {
     "name": "stdout",
     "output_type": "stream",
     "text": [
      "[10 12 14 16 18 20 22 24]\n",
      "(8,)\n"
     ]
    }
   ],
   "source": [
    "arr_arange = np.arange(10, 26, 2) ## start, end, step\n",
    "\n",
    "print(arr_arange)\n",
    "print(arr_arange.shape)"
   ]
  },
  {
   "cell_type": "markdown",
   "id": "365895dc",
   "metadata": {},
   "source": [
    "### Creates an array with evenly spaced values over a specified range."
   ]
  },
  {
   "cell_type": "code",
   "execution_count": 9,
   "id": "c8e80077",
   "metadata": {},
   "outputs": [
    {
     "name": "stdout",
     "output_type": "stream",
     "text": [
      "[ 8. 15. 22. 29.]\n",
      "(4,)\n"
     ]
    }
   ],
   "source": [
    "arr_line = np.linspace(8, 29, 4) ## start, end, total numbers\n",
    "\n",
    "print(arr_line)\n",
    "print(arr_line.shape)"
   ]
  },
  {
   "cell_type": "code",
   "execution_count": 10,
   "id": "f9738fbd",
   "metadata": {},
   "outputs": [
    {
     "name": "stdout",
     "output_type": "stream",
     "text": [
      "<class 'numpy.float64'>\n"
     ]
    }
   ],
   "source": [
    "print(type(arr_line[1]))"
   ]
  },
  {
   "cell_type": "markdown",
   "id": "50a7979e",
   "metadata": {},
   "source": [
    "### Creates an identity matrix of size n.\n",
    "\n"
   ]
  },
  {
   "cell_type": "code",
   "execution_count": 11,
   "id": "eb40e5ee",
   "metadata": {},
   "outputs": [
    {
     "name": "stdout",
     "output_type": "stream",
     "text": [
      "[[1. 0. 0. 0. 0.]\n",
      " [0. 1. 0. 0. 0.]\n",
      " [0. 0. 1. 0. 0.]\n",
      " [0. 0. 0. 1. 0.]\n",
      " [0. 0. 0. 0. 1.]]\n",
      "(5, 5)\n"
     ]
    }
   ],
   "source": [
    "arr_eye = np.eye(5)\n",
    "\n",
    "print(arr_eye)\n",
    "print(arr_eye.shape)"
   ]
  },
  {
   "cell_type": "markdown",
   "id": "16447983",
   "metadata": {},
   "source": [
    "### Create a numpy array with random numbers"
   ]
  },
  {
   "cell_type": "code",
   "execution_count": 12,
   "id": "93cf0fba",
   "metadata": {},
   "outputs": [
    {
     "name": "stdout",
     "output_type": "stream",
     "text": [
      "[[0.58971838 0.86316049 0.90308906 0.78892755 0.58210824]\n",
      " [0.46419591 0.66654596 0.69376711 0.80371715 0.62437685]\n",
      " [0.13007946 0.76877795 0.62479924 0.59965875 0.82358575]]\n"
     ]
    }
   ],
   "source": [
    "arr_random = np.random.rand(3, 5) \n",
    "\n",
    "\n",
    "print(arr_random);"
   ]
  },
  {
   "cell_type": "markdown",
   "id": "25fcc283",
   "metadata": {},
   "source": [
    "### NumPy Array Indexing"
   ]
  },
  {
   "cell_type": "code",
   "execution_count": 13,
   "id": "04305e4d",
   "metadata": {},
   "outputs": [
    {
     "name": "stdout",
     "output_type": "stream",
     "text": [
      "0.768777954695002\n"
     ]
    }
   ],
   "source": [
    "print(arr_random[2, 1])"
   ]
  },
  {
   "cell_type": "markdown",
   "id": "aac0ca0c",
   "metadata": {},
   "source": [
    "### NumPy Mathematical Operation"
   ]
  },
  {
   "cell_type": "code",
   "execution_count": 14,
   "id": "e2a1f102",
   "metadata": {},
   "outputs": [
    {
     "name": "stdout",
     "output_type": "stream",
     "text": [
      "[[1 2 3]\n",
      " [3 3 1]]\n",
      "[[4 5 6]\n",
      " [7 8 9]]\n",
      "[[ 5  7  9]\n",
      " [10 11 10]]\n"
     ]
    }
   ],
   "source": [
    "arr1 = np.array([[1, 2, 3], [3, 3, 1]])\n",
    "\n",
    "arr2 = np.array([[4, 5, 6], [7, 8, 9]])\n",
    "\n",
    "arr3 = arr1 + arr2\n",
    "\n",
    "print(arr1)\n",
    "print(arr2)\n",
    "print(arr3)"
   ]
  },
  {
   "cell_type": "code",
   "execution_count": null,
   "id": "df56f8b3",
   "metadata": {},
   "outputs": [],
   "source": []
  },
  {
   "cell_type": "code",
   "execution_count": 15,
   "id": "ca754e17",
   "metadata": {},
   "outputs": [
    {
     "name": "stdout",
     "output_type": "stream",
     "text": [
      "(2, 3) (3,)\n",
      "[[1 2 3]\n",
      " [3 3 1]]\n",
      "[4 5 6]\n",
      "[[5 7 9]\n",
      " [7 8 7]]\n"
     ]
    }
   ],
   "source": [
    "arr4 = np.array([[1, 2, 3], [3, 3, 1]])\n",
    "\n",
    "arr5 = np.array([4, 5, 6])\n",
    "\n",
    "arr6 = arr4 + arr5\n",
    "\n",
    "print(arr4.shape, arr5.shape)\n",
    "\n",
    "print(arr4)\n",
    "print(arr5)\n",
    "print(arr6)"
   ]
  },
  {
   "cell_type": "code",
   "execution_count": 16,
   "id": "10d2633d",
   "metadata": {},
   "outputs": [
    {
     "name": "stdout",
     "output_type": "stream",
     "text": [
      "[[5 7 9]\n",
      " [7 8 7]]\n"
     ]
    }
   ],
   "source": [
    "arr_6 = np.add(arr4 , arr5)\n",
    "\n",
    "print(arr_6)"
   ]
  },
  {
   "cell_type": "markdown",
   "id": "525e062d",
   "metadata": {},
   "source": [
    "### Element wise multiplication "
   ]
  },
  {
   "cell_type": "code",
   "execution_count": 17,
   "id": "be96f52a",
   "metadata": {},
   "outputs": [
    {
     "name": "stdout",
     "output_type": "stream",
     "text": [
      "[[1 2 3]\n",
      " [3 3 1]]\n",
      "[[4 5 6]\n",
      " [7 8 9]]\n",
      "[[ 4 10 18]\n",
      " [21 24  9]]\n"
     ]
    }
   ],
   "source": [
    "arr7 = arr1*arr2\n",
    "print(arr1)\n",
    "print(arr2)\n",
    "print(arr7)"
   ]
  },
  {
   "cell_type": "markdown",
   "id": "8363e4f3-cf0d-4042-86ae-9ea8145347ec",
   "metadata": {},
   "source": [
    "## Hello heading"
   ]
  },
  {
   "cell_type": "markdown",
   "id": "4bbe0fdc",
   "metadata": {},
   "source": [
    "### Cross roduct"
   ]
  },
  {
   "cell_type": "code",
   "execution_count": 18,
   "id": "334c8acb",
   "metadata": {},
   "outputs": [
    {
     "name": "stdout",
     "output_type": "stream",
     "text": [
      "[[ -3   6  -3]\n",
      " [ 19 -20   3]]\n"
     ]
    }
   ],
   "source": [
    "arr_7 = np.cross(arr1, arr2)\n",
    "print(arr_7)"
   ]
  },
  {
   "cell_type": "markdown",
   "id": "825d420b",
   "metadata": {},
   "source": [
    "### Dot product"
   ]
  },
  {
   "cell_type": "code",
   "execution_count": 21,
   "id": "0774afac",
   "metadata": {},
   "outputs": [
    {
     "ename": "ValueError",
     "evalue": "shapes (2,3) and (2,3) not aligned: 3 (dim 1) != 2 (dim 0)",
     "output_type": "error",
     "traceback": [
      "\u001b[1;31m---------------------------------------------------------------------------\u001b[0m",
      "\u001b[1;31mValueError\u001b[0m                                Traceback (most recent call last)",
      "Cell \u001b[1;32mIn[21], line 1\u001b[0m\n\u001b[1;32m----> 1\u001b[0m arr8 \u001b[38;5;241m=\u001b[39m \u001b[43mnp\u001b[49m\u001b[38;5;241;43m.\u001b[39;49m\u001b[43mdot\u001b[49m\u001b[43m(\u001b[49m\u001b[43marr1\u001b[49m\u001b[43m,\u001b[49m\u001b[43m \u001b[49m\u001b[43marr2\u001b[49m\u001b[43m)\u001b[49m \n\u001b[0;32m      3\u001b[0m \u001b[38;5;28mprint\u001b[39m(arr1)\n\u001b[0;32m      4\u001b[0m \u001b[38;5;28mprint\u001b[39m(arr2)\n",
      "File \u001b[1;32m<__array_function__ internals>:200\u001b[0m, in \u001b[0;36mdot\u001b[1;34m(*args, **kwargs)\u001b[0m\n",
      "\u001b[1;31mValueError\u001b[0m: shapes (2,3) and (2,3) not aligned: 3 (dim 1) != 2 (dim 0)"
     ]
    }
   ],
   "source": [
    "arr8 = np.dot(arr1, arr2) \n",
    "\n",
    "print(arr1)\n",
    "print(arr2)\n",
    "print(arr8)"
   ]
  },
  {
   "cell_type": "code",
   "execution_count": 22,
   "id": "da37d864",
   "metadata": {},
   "outputs": [
    {
     "name": "stdout",
     "output_type": "stream",
     "text": [
      "[[4 5 6]\n",
      " [7 8 9]]\n",
      "[[4 7]\n",
      " [5 8]\n",
      " [6 9]]\n",
      "[[32 50]\n",
      " [33 54]]\n"
     ]
    }
   ],
   "source": [
    "print(arr2)\n",
    "\n",
    "arr_2_T = np.transpose(arr2)\n",
    "\n",
    "print(arr_2_T)\n",
    "\n",
    "arr_8 = np.dot(arr1, arr_2_T)\n",
    "print(arr_8)"
   ]
  },
  {
   "cell_type": "code",
   "execution_count": 23,
   "id": "f9c5c83d-845d-4baa-bbdc-705243504e67",
   "metadata": {},
   "outputs": [
    {
     "ename": "ValueError",
     "evalue": "matmul: Input operand 1 has a mismatch in its core dimension 0, with gufunc signature (n?,k),(k,m?)->(n?,m?) (size 4 is different from 3)",
     "output_type": "error",
     "traceback": [
      "\u001b[1;31m---------------------------------------------------------------------------\u001b[0m",
      "\u001b[1;31mValueError\u001b[0m                                Traceback (most recent call last)",
      "Cell \u001b[1;32mIn[23], line 5\u001b[0m\n\u001b[0;32m      1\u001b[0m trial_mat_1 \u001b[38;5;241m=\u001b[39m [[\u001b[38;5;241m2\u001b[39m, \u001b[38;5;241m3\u001b[39m, \u001b[38;5;241m4\u001b[39m], [\u001b[38;5;241m7\u001b[39m, \u001b[38;5;241m8\u001b[39m, \u001b[38;5;241m11\u001b[39m]]\n\u001b[0;32m      3\u001b[0m trial_mat_2 \u001b[38;5;241m=\u001b[39m [[ \u001b[38;5;241m11\u001b[39m, \u001b[38;5;241m13\u001b[39m], [\u001b[38;5;241m7\u001b[39m, \u001b[38;5;241m4\u001b[39m], [\u001b[38;5;241m2\u001b[39m,\u001b[38;5;241m4\u001b[39m], [\u001b[38;5;241m1\u001b[39m, \u001b[38;5;241m2\u001b[39m] ]\n\u001b[1;32m----> 5\u001b[0m trial_matmul \u001b[38;5;241m=\u001b[39m \u001b[43mnp\u001b[49m\u001b[38;5;241;43m.\u001b[39;49m\u001b[43mmatmul\u001b[49m\u001b[43m(\u001b[49m\u001b[43mtrial_mat_1\u001b[49m\u001b[43m,\u001b[49m\u001b[43m \u001b[49m\u001b[43mtrial_mat_2\u001b[49m\u001b[43m)\u001b[49m\n\u001b[0;32m      6\u001b[0m \u001b[38;5;28mprint\u001b[39m(trial_matmul)\n",
      "\u001b[1;31mValueError\u001b[0m: matmul: Input operand 1 has a mismatch in its core dimension 0, with gufunc signature (n?,k),(k,m?)->(n?,m?) (size 4 is different from 3)"
     ]
    }
   ],
   "source": [
    "trial_mat_1 = [[2, 3, 4], [7, 8, 11]]\n",
    "\n",
    "trial_mat_2 = [[ 11, 13], [7, 4], [2,4], [1, 2] ]\n",
    "\n",
    "trial_matmul = np.matmul(trial_mat_1, trial_mat_2)\n",
    "print(trial_matmul)"
   ]
  },
  {
   "cell_type": "code",
   "execution_count": 24,
   "id": "08720f61",
   "metadata": {},
   "outputs": [
    {
     "name": "stdout",
     "output_type": "stream",
     "text": [
      "[[1 2 3]\n",
      " [3 3 1]]\n",
      "[[2 3]\n",
      " [3 6]\n",
      " [2 5]]\n",
      "[[14 30]\n",
      " [17 32]]\n"
     ]
    }
   ],
   "source": [
    "arr9 = np.array([[2, 3], [3, 6], [2, 5]])\n",
    "\n",
    "arr8 = np.dot(arr1, arr9) \n",
    "\n",
    "print(arr1)\n",
    "print(arr9)\n",
    "print(arr8)"
   ]
  },
  {
   "cell_type": "code",
   "execution_count": 25,
   "id": "6121d94d",
   "metadata": {},
   "outputs": [
    {
     "name": "stdout",
     "output_type": "stream",
     "text": [
      "[[1 2 3]\n",
      " [3 3 1]]\n",
      "[[10 20 30]\n",
      " [30 30 10]]\n"
     ]
    }
   ],
   "source": [
    "arr10 = 10*arr1\n",
    "\n",
    "print(arr1)\n",
    "print(arr10)"
   ]
  },
  {
   "cell_type": "markdown",
   "id": "da5061d3",
   "metadata": {},
   "source": [
    "### Reshape a NumPy array"
   ]
  },
  {
   "cell_type": "code",
   "execution_count": 26,
   "id": "dfc2de52",
   "metadata": {},
   "outputs": [
    {
     "name": "stdout",
     "output_type": "stream",
     "text": [
      "[1 2 3 4 5 6] (6,)\n",
      "(6,)\n",
      "[[1 2 3]\n",
      " [4 5 6]] (2, 3)\n",
      "[[1]\n",
      " [2]\n",
      " [3]\n",
      " [4]\n",
      " [5]\n",
      " [6]] (6, 1)\n",
      "[[1 2 3 4 5 6]] (1, 6)\n"
     ]
    }
   ],
   "source": [
    "arr11 = np.array([1, 2, 3, 4, 5, 6])\n",
    "\n",
    "print(arr11, arr11.shape)\n",
    "\n",
    "# Reshaping to 2x3 array\n",
    "\n",
    "reshaped_arr = arr11.reshape((2, 3))\n",
    "\n",
    "print(arr11.shape)\n",
    "print(reshaped_arr, reshaped_arr.shape)\n",
    "\n",
    "reshape_1 = arr11.reshape(6,1)\n",
    "print(reshape_1, reshape_1.shape)\n",
    "\n",
    "reshape_2 = arr11.reshape(1, 6)\n",
    "print(reshape_2, reshape_2.shape)"
   ]
  },
  {
   "cell_type": "code",
   "execution_count": 27,
   "id": "be2368d6-be40-48e2-b57b-a0e8a599e707",
   "metadata": {},
   "outputs": [
    {
     "name": "stdout",
     "output_type": "stream",
     "text": [
      "[[50 32]] (1, 2)\n",
      "[50 32] (2,)\n"
     ]
    }
   ],
   "source": [
    "mat_A = np.array([[1, 2, 3]])\n",
    "\n",
    "mat_B = np.array([[7, 4], [8,5], [9,6]])\n",
    "\n",
    "mat_C  = np.array([1, 2, 3])\n",
    "\n",
    "AB_matmull = np.matmul(mat_A, mat_B)\n",
    "\n",
    "CB_matmull = np.matmul(mat_C, mat_B)\n",
    "\n",
    "print(AB_matmull, AB_matmull.shape)\n",
    "\n",
    "print(CB_matmull, CB_matmull.shape)"
   ]
  },
  {
   "cell_type": "code",
   "execution_count": null,
   "id": "3b6de7e6-f9f6-43d3-8891-395506df0fe8",
   "metadata": {},
   "outputs": [],
   "source": []
  },
  {
   "cell_type": "markdown",
   "id": "780d0259",
   "metadata": {},
   "source": [
    "### Flattening a NumPy array"
   ]
  },
  {
   "cell_type": "code",
   "execution_count": 28,
   "id": "abe42af8",
   "metadata": {},
   "outputs": [
    {
     "name": "stdout",
     "output_type": "stream",
     "text": [
      "[[0.04041334 0.32047564 0.36117763]\n",
      " [0.69427119 0.21799008 0.36558662]] (2, 3)\n",
      "[0.04041334 0.32047564 0.36117763 0.69427119 0.21799008 0.36558662] (6,)\n",
      "[0.04041334 0.32047564 0.36117763 0.69427119 0.21799008 0.36558662] (6,)\n"
     ]
    }
   ],
   "source": [
    "arr12 = np.random.rand(2,3)\n",
    "arr13 = arr12.flatten()\n",
    "arr14 = arr12.ravel()\n",
    "\n",
    "print(arr12, arr12.shape)\n",
    "print(arr13, arr13.shape)\n",
    "print(arr14, arr14.shape)\n"
   ]
  },
  {
   "cell_type": "markdown",
   "id": "efa1fc6f",
   "metadata": {},
   "source": [
    "### Transpose of a NumPy array"
   ]
  },
  {
   "cell_type": "code",
   "execution_count": 29,
   "id": "4a1ed642",
   "metadata": {},
   "outputs": [
    {
     "name": "stdout",
     "output_type": "stream",
     "text": [
      "[[1 2 3]\n",
      " [4 5 6]]\n",
      "[[1 4]\n",
      " [2 5]\n",
      " [3 6]]\n"
     ]
    }
   ],
   "source": [
    "arr15 = np.array([[1,2,3], [4,5,6]])\n",
    "arr16 = np.transpose(arr15)\n",
    "\n",
    "print(arr15)\n",
    "print(arr16)\n"
   ]
  },
  {
   "cell_type": "markdown",
   "id": "ede2d70a",
   "metadata": {},
   "source": [
    "### Expanding a NumPy array\n",
    "\n",
    "You can add a new axis to an array using the expand_dims() method by providing the array and the axis along which to expand:"
   ]
  },
  {
   "cell_type": "code",
   "execution_count": 30,
   "id": "b17ed15e",
   "metadata": {},
   "outputs": [
    {
     "name": "stdout",
     "output_type": "stream",
     "text": [
      "Original: \n",
      " Shape (3,) \n",
      " [1 2 3]\n",
      "Expand along columns: \n",
      " Shape (1, 3) \n",
      " [[1 2 3]]\n",
      "Expand along rows: \n",
      " Shape (3, 1) \n",
      " [[1]\n",
      " [2]\n",
      " [3]]\n"
     ]
    }
   ],
   "source": [
    "# expand dimensions\n",
    "a = np.array([1,2,3])\n",
    "b = np.expand_dims(a,axis=0)\n",
    "c = np.expand_dims(a,axis=1)\n",
    "print('Original:','\\n','Shape',a.shape,'\\n',a)\n",
    "print('Expand along columns:','\\n','Shape',b.shape,'\\n',b)\n",
    "print('Expand along rows:','\\n','Shape',c.shape,'\\n',c)\n",
    "\n"
   ]
  },
  {
   "cell_type": "markdown",
   "id": "3ee451dc",
   "metadata": {},
   "source": [
    "### Slicing of NumPy array"
   ]
  },
  {
   "cell_type": "code",
   "execution_count": 31,
   "id": "021c45aa",
   "metadata": {},
   "outputs": [
    {
     "name": "stdout",
     "output_type": "stream",
     "text": [
      "[2 4]\n"
     ]
    }
   ],
   "source": [
    "a = np.array([1,2,3,4,5,6])\n",
    "print(a[1:5:2]) ##[start:end:step-size]"
   ]
  },
  {
   "cell_type": "code",
   "execution_count": 32,
   "id": "88faa504",
   "metadata": {},
   "outputs": [
    {
     "name": "stdout",
     "output_type": "stream",
     "text": [
      "Alternate values from first row: \n",
      " [[ 1  3 12]]\n",
      "Second column values : \n",
      " [[ 2]\n",
      " [ 5]\n",
      " [21]]\n",
      "Arbitrary values : \n",
      " [[2 3]]\n"
     ]
    }
   ],
   "source": [
    "a = np.array([[1,2,3, 11, 12, 13],[4,5,6, 15, 16, 17], [20, 21, 22, 23, 24, 25]])\n",
    "# print first row values\n",
    "# print('First row values :','\\n',a[1, :],  (a[1, :]).shape)\n",
    "# print('First row values :','\\n',a[1:2, :],  (a[1:2, :]).shape)\n",
    "\n",
    "# with step-size for columns\n",
    "print('Alternate values from first row:','\\n',a[0:1,::2])\n",
    "# \n",
    "print('Second column values :','\\n',a[:,1:2])\n",
    "print('Arbitrary values :','\\n',a[0:1,1:3])"
   ]
  },
  {
   "cell_type": "markdown",
   "id": "c87982ad",
   "metadata": {},
   "source": [
    "### Negative slicing of NumPy arrays"
   ]
  },
  {
   "cell_type": "code",
   "execution_count": 33,
   "id": "04b56d2a",
   "metadata": {},
   "outputs": [
    {
     "name": "stdout",
     "output_type": "stream",
     "text": [
      "[4 9]\n"
     ]
    }
   ],
   "source": [
    "a = np.array([[1,2,3,4,5],\n",
    "[6,7,8,9,10]])\n",
    "print(a[:,-2])\n",
    "\n"
   ]
  },
  {
   "cell_type": "markdown",
   "id": "63463b13",
   "metadata": {},
   "source": [
    "### An interesting use of negative slicing is to reverse the original array."
   ]
  },
  {
   "cell_type": "code",
   "execution_count": 34,
   "id": "a3538334",
   "metadata": {},
   "outputs": [
    {
     "name": "stdout",
     "output_type": "stream",
     "text": [
      "Original array : \n",
      " [[ 1  2  3  4  5]\n",
      " [ 6  7  8  9 10]]\n",
      "Reversed array : \n",
      " [[10  9  8  7  6]\n",
      " [ 5  4  3  2  1]]\n"
     ]
    }
   ],
   "source": [
    "a = np.array([[1,2,3,4,5],\n",
    "[6,7,8,9,10]])\n",
    "print('Original array :','\\n',a)\n",
    "print('Reversed array :','\\n',a[::-1,::-1])\n",
    "\n",
    "\n"
   ]
  },
  {
   "cell_type": "markdown",
   "id": "cdfe4aba",
   "metadata": {},
   "source": [
    "### You can also use the flip() method to reverse an ndarray."
   ]
  },
  {
   "cell_type": "code",
   "execution_count": 35,
   "id": "35e54d5a",
   "metadata": {},
   "outputs": [
    {
     "name": "stdout",
     "output_type": "stream",
     "text": [
      "Reversed array vertically : \n",
      " [[ 5  4  3  2  1]\n",
      " [10  9  8  7  6]]\n",
      "Reversed array horizontally : \n",
      " [[ 6  7  8  9 10]\n",
      " [ 1  2  3  4  5]]\n",
      "Reversed array horizontally : \n",
      " [[10  9  8  7  6]\n",
      " [ 5  4  3  2  1]]\n"
     ]
    }
   ],
   "source": [
    "a = np.array([[1,2,3,4,5],\n",
    "[6,7,8,9,10]])\n",
    "# print('Original array :','\\n',a)\n",
    "print('Reversed array vertically :','\\n',np.flip(a,axis=1))\n",
    "print('Reversed array horizontally :','\\n',np.flip(a,axis=0))\n",
    "\n",
    "print('Reversed array horizontally :','\\n',np.flip(a,axis=(0, 1)))"
   ]
  },
  {
   "cell_type": "markdown",
   "id": "a5470a0d",
   "metadata": {},
   "source": [
    "### Concatenating ndarrays"
   ]
  },
  {
   "cell_type": "code",
   "execution_count": 36,
   "id": "a9f58e77",
   "metadata": {},
   "outputs": [
    {
     "name": "stdout",
     "output_type": "stream",
     "text": [
      "Array 1 : \n",
      " [[0 1 2 3 4]]\n",
      "Array 2 : \n",
      " [[5 6 7 8 9]]\n",
      "Concatenate along rows : \n",
      " [[0 1 2 3 4]\n",
      " [5 6 7 8 9]]\n",
      "Concatenate along columns : \n",
      " [[0 1 2 3 4 5 6 7 8 9]]\n",
      "c [[0 1 2 3 4 5 6 7 8 9]]\n",
      "a [[0 1 2 3 4]]\n"
     ]
    }
   ],
   "source": [
    "a = np.arange(0,5).reshape(1,5)\n",
    "b = np.arange(5,10).reshape(1,5)\n",
    "print('Array 1 :','\\n',a)\n",
    "print('Array 2 :','\\n',b)\n",
    "print('Concatenate along rows :','\\n',np.concatenate((a,b),axis=0))\n",
    "print('Concatenate along columns :','\\n',np.concatenate((a,b),axis=1))\n",
    "\n",
    "\n",
    "c = np.concatenate((a,b),axis=1)\n",
    "# a = np.concatenate((a,b),axis=1)\n",
    "\n",
    "print('c', c)\n",
    "\n",
    "print('a',a)"
   ]
  },
  {
   "cell_type": "code",
   "execution_count": 37,
   "id": "8d042075",
   "metadata": {},
   "outputs": [
    {
     "name": "stdout",
     "output_type": "stream",
     "text": [
      "[[1 2]\n",
      " [3 4]\n",
      " [5 6]]\n"
     ]
    }
   ],
   "source": [
    "# append values to ndarray\n",
    "a = np.array([[1,2],\n",
    "             [3,4]])\n",
    "print(np.append(a,[[5,6]], axis=0))\n",
    "\n"
   ]
  },
  {
   "cell_type": "markdown",
   "id": "b11fe17b",
   "metadata": {},
   "source": [
    "### Mean, Median and Standard deviation"
   ]
  },
  {
   "cell_type": "code",
   "execution_count": 38,
   "id": "6b8bb98a",
   "metadata": {},
   "outputs": [
    {
     "name": "stdout",
     "output_type": "stream",
     "text": [
      "Mean : 9.0\n",
      "Standard deviation : 2.8284271247461903\n",
      "Median : 9.0\n"
     ]
    }
   ],
   "source": [
    "a = np.arange(5,15,2)\n",
    "print('Mean :',np.mean(a))\n",
    "print('Standard deviation :',np.std(a))\n",
    "print('Median :',np.median(a))"
   ]
  },
  {
   "cell_type": "markdown",
   "id": "8dcd6e8d",
   "metadata": {},
   "source": [
    "### Min-Max values and their indexes"
   ]
  },
  {
   "cell_type": "code",
   "execution_count": 39,
   "id": "6bb96cb0",
   "metadata": {},
   "outputs": [
    {
     "name": "stdout",
     "output_type": "stream",
     "text": [
      "Min : [1 3]\n",
      "Max : [6 4]\n"
     ]
    }
   ],
   "source": [
    "a = np.array([[1,6],\n",
    "[4,3]])\n",
    "# minimum along a column\n",
    "print('Min :',np.min(a,axis=0))\n",
    "# maximum along a row\n",
    "print('Max :',np.max(a,axis=1))"
   ]
  },
  {
   "cell_type": "markdown",
   "id": "2723f26a",
   "metadata": {},
   "source": [
    "### argmin() and argmax() methods:"
   ]
  },
  {
   "cell_type": "code",
   "execution_count": 40,
   "id": "b0f8808e",
   "metadata": {},
   "outputs": [
    {
     "name": "stdout",
     "output_type": "stream",
     "text": [
      "Min : [0 1 0]\n",
      "Max : [1 2]\n"
     ]
    }
   ],
   "source": [
    "a = np.array([[1,6,5],\n",
    "[4,3,7]])\n",
    "# minimum along a column\n",
    "print('Min :',np.argmin(a,axis=0))\n",
    "# maximum along a row\n",
    "print('Max :',np.argmax(a,axis=1))"
   ]
  },
  {
   "cell_type": "markdown",
   "id": "fb22acdb",
   "metadata": {},
   "source": [
    "### Sorting in NumPy arrays"
   ]
  },
  {
   "cell_type": "code",
   "execution_count": 41,
   "id": "6fc32a88",
   "metadata": {},
   "outputs": [
    {
     "data": {
      "text/plain": [
       "array([1, 2, 3, 4, 5, 6, 7, 8, 9])"
      ]
     },
     "execution_count": 41,
     "metadata": {},
     "output_type": "execute_result"
    }
   ],
   "source": [
    "a = np.array([1,4,2,5,3,6,8,7,9])\n",
    "np.sort(a, kind='quicksort')"
   ]
  },
  {
   "cell_type": "code",
   "execution_count": 42,
   "id": "b9bda697",
   "metadata": {},
   "outputs": [
    {
     "name": "stdout",
     "output_type": "stream",
     "text": [
      "Sort along row : \n",
      " [[4 5 6 7]\n",
      " [2 3 7 9]]\n",
      "Sort along column : \n",
      " [[5 2 3 4]\n",
      " [9 6 7 7]]\n"
     ]
    }
   ],
   "source": [
    "a = np.array([[5,6,7,4],\n",
    "              [9,2,3,7]])# sort along the column\n",
    "print('Sort along row :','\\n',np.sort(a, kind='mergresort',axis=1))\n",
    "# sort along the row\n",
    "print('Sort along column :','\\n',np.sort(a, kind='mergresort',axis=0))"
   ]
  },
  {
   "cell_type": "code",
   "execution_count": null,
   "id": "c92e7761",
   "metadata": {},
   "outputs": [],
   "source": []
  },
  {
   "cell_type": "code",
   "execution_count": null,
   "id": "bc9c229b",
   "metadata": {},
   "outputs": [],
   "source": []
  }
 ],
 "metadata": {
  "kernelspec": {
   "display_name": "Python 3 (ipykernel)",
   "language": "python",
   "name": "python3"
  },
  "language_info": {
   "codemirror_mode": {
    "name": "ipython",
    "version": 3
   },
   "file_extension": ".py",
   "mimetype": "text/x-python",
   "name": "python",
   "nbconvert_exporter": "python",
   "pygments_lexer": "ipython3",
   "version": "3.8.18"
  }
 },
 "nbformat": 4,
 "nbformat_minor": 5
}
